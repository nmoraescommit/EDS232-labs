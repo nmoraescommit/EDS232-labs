{
 "cells": [
  {
   "cell_type": "code",
   "execution_count": null,
   "id": "34256c8e-f792-4e62-803e-fa929376ccf6",
   "metadata": {},
   "outputs": [],
   "source": [
    "# generate a moons dataset\n",
    "X,y = make_moons(n_sample = 1000, noise = 0.2, random_state = 808)\n",
    "\n",
    "# Split into training and test sets\n",
    "X_train, X_test, y_train, y_test = train_test_split(X,y, test_size = 0.2, random_state = 808)\n",
    "\n",
    "# Define XGBoost model\n",
    "model = xgb.XGBClassifier(eval_metric = \"logloss\", random_state = 808)\n",
    "\n",
    "# Define hyperparameter dists\n",
    "param_dist = {\"n_estimators\":randint(50,300),\n",
    "             \"learning_rate\": uniform(0.01, 0.3),\n",
    "             \"max_depth\":randint(2,10),\n",
    "             \"subsample\": uniform(),\n",
    "             \"colsample_bytree\": uniform(0.5,0.5) \n",
    "             }\n",
    "\n",
    "# Set - up RandomizedSearchCV\n",
    "random_search = RandomizedSearchCV(\n",
    "                model, param_dist, n_iter = 20,\n",
    "                scoring=\"accuracy\",\n",
    "                cv = 3, verbose = 1, random_state= 808)\n",
    "\n",
    "# Run random search\n",
    "random_search.fit(X_train, y_train)\n",
    "\n",
    "# Get search results as a DataFrame\n",
    "results = pd.DataFrame(random_search.cv_results_)\n",
    "\n",
    "# Extract hyperparameters and accuracy\n",
    "params_to_plot = ['param_learning_rate','param_n_estimators',\n",
    "                 'param_max_depth', 'param_subsample',\n",
    "                 'param_colsample_bytree']\n",
    "\n",
    "accuracy = results[\"mean_test_score\"]"
   ]
  },
  {
   "cell_type": "code",
   "execution_count": null,
   "id": "965832f1-63c6-46ae-90c5-aadc295e822d",
   "metadata": {},
   "outputs": [],
   "source": [
    "# gernetate scatter plots for each hyper vs. acuracy\n",
    "for param in params_to_plot:\n",
    "    sns.scatterplot(x=results[param],y=accuracy),\n",
    "    plt.title(f\"Effect of {param}) on Model Accuracy\")\n",
    "    \n",
    "    plt.show()"
   ]
  },
  {
   "cell_type": "code",
   "execution_count": null,
   "id": "bb1f6c84-4f06-49ac-9eb8-03986537fcaf",
   "metadata": {},
   "outputs": [],
   "source": []
  }
 ],
 "metadata": {
  "kernelspec": {
   "display_name": "Python 3 (ipykernel)",
   "language": "python",
   "name": "python3"
  },
  "language_info": {
   "codemirror_mode": {
    "name": "ipython",
    "version": 3
   },
   "file_extension": ".py",
   "mimetype": "text/x-python",
   "name": "python",
   "nbconvert_exporter": "python",
   "pygments_lexer": "ipython3",
   "version": "3.7.13"
  }
 },
 "nbformat": 4,
 "nbformat_minor": 5
}
