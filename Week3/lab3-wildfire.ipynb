{
 "cells": [
  {
   "cell_type": "code",
   "execution_count": 1,
   "id": "6d41e7de-5f0c-4baf-a37f-ec5dbe4f7428",
   "metadata": {
    "tags": []
   },
   "outputs": [],
   "source": [
    "# Imports\n",
    "import pandas as pd\n",
    "import numpy as np\n",
    "from sklearn.model_selection import train_test_split\n",
    "from sklearn.preprocessing import StandardScaler\n",
    "from sklearn.linear_model import LogisticRegression\n",
    "from sklearn.dummy import DummyClassifier\n",
    "from sklearn.metrics import accuracy_score, confusion_matrix, classification_report, roc_curve, roc_auc_score, ConfusionMatrixDisplay, auc\n",
    "import matplotlib.pyplot as plt\n",
    "import seaborn as sns"
   ]
  },
  {
   "cell_type": "markdown",
   "id": "e492775e-957c-40b4-b64f-5de93dbea5e1",
   "metadata": {},
   "source": [
    "# Lab 4: Fire and Tree Mortality\n",
    "\n",
    "# About the data\n",
    "Wildfires are increasingly frequent and severe due to climate change. Predicting tree mortality following a wildfire is critical for forest management, ecosystem recovery, and carbon sequestration planning. In this lab, we will build a logistic regression model to predict the probability of tree mortality one year after a wildfire\n",
    "\n",
    "The database we'll be working with today includes observations of individual trees involved in prescribed fires and wildfires occurring over 35 years, from 1981 to 2016. It is drawn from a fire and tree mortality database from the US Forest Service (see data description for the full database here: [link](https://www.nature.com/articles/s41597-020-0522-7#Sec10)).\n",
    "\n",
    "The target variable we'll use is `yr1status`, which is a binary variable (0=alive, 1=dead).  This tells us if a tree has died one year after a fire event.\n",
    "\n",
    "The features we'll use are `YrFireName`, `Times_burned`, `Species`, `Genus_species`,\n",
    "    `DBH_cm`, `HT_m`, `CR_pre`, and `CR_post`."
   ]
  },
  {
   "cell_type": "markdown",
   "id": "8f2c5ce6-eb43-4544-8b88-c306a7618c85",
   "metadata": {},
   "source": [
    "## Step 1: Check the metadata\n",
    "\n",
    "Look at the metadata and provide a description on what each variable represents in the Description column below.\n"
   ]
  },
  {
   "cell_type": "markdown",
   "id": "c7b239ac-123f-4458-bf2c-fc46dcf5cc0a",
   "metadata": {},
   "source": [
    "| Feature                     | Description                                                                                   |\n",
    "|-----------------------------|-----------------------------------------------------------------------------------------------| \n",
    "| yr1status                   | Tree status in year 1 post-fire. (0=alive, 1=dead).\n",
    "| YrFireName                  | A unique identifier for each fire event that includes the year of the fire and the fire name                                    \n",
    "| Times_burned                | The number of times this tree was burned                                            \n",
    "| Species                     | Symbol for species. First two letters of genus and first two letters of species, sometimes followed by a number                                                   \n",
    "| Genus_species               | Genus and species of tree                                       \n",
    "| DBH_cm                      | Diameter at breast height rounded to nearest 0.1 cm (cm = centimeters)\n",
    "| HT_m                        | Pre-fire tree height rounded to nearest 0.01 m (m=meters)\n",
    "| CR_pre                      | Pre-fire live crown ratio. Crown length divided by tree height (proportion rounded to nearest 0.01).\n",
    "| CR_post                     | Post-fire live crown ratio. Crown length divided by tree height (proportion rounded to nearest 0.01)."
   ]
  },
  {
   "cell_type": "markdown",
   "id": "55d355a0",
   "metadata": {},
   "source": [
    "## Step 2: Fetch  data\n",
    "Read in the data set and filter to retain only the variables of interest.  Then check for incomplete observations and remove any rows containing NaNs.  How many observations does that leave us with? **Print your answer.**"
   ]
  },
  {
   "cell_type": "code",
   "execution_count": 2,
   "id": "ac926dc2",
   "metadata": {
    "tags": []
   },
   "outputs": [],
   "source": [
    "# Load the dataset\n",
    "trees_dat = pd.read_csv('/courses/EDS232/Data/FTM_trees.csv', low_memory = False)"
   ]
  },
  {
   "cell_type": "code",
   "execution_count": 3,
   "id": "dd53b04e-7b17-4bae-86ad-9ef7f8183376",
   "metadata": {
    "tags": []
   },
   "outputs": [
    {
     "data": {
      "text/html": [
       "<div>\n",
       "<style scoped>\n",
       "    .dataframe tbody tr th:only-of-type {\n",
       "        vertical-align: middle;\n",
       "    }\n",
       "\n",
       "    .dataframe tbody tr th {\n",
       "        vertical-align: top;\n",
       "    }\n",
       "\n",
       "    .dataframe thead th {\n",
       "        text-align: right;\n",
       "    }\n",
       "</style>\n",
       "<table border=\"1\" class=\"dataframe\">\n",
       "  <thead>\n",
       "    <tr style=\"text-align: right;\">\n",
       "      <th></th>\n",
       "      <th>YrFireName</th>\n",
       "      <th>Species</th>\n",
       "      <th>Dataset</th>\n",
       "      <th>Times_burned</th>\n",
       "      <th>ID</th>\n",
       "      <th>Plot</th>\n",
       "      <th>TreeNum</th>\n",
       "      <th>Unit</th>\n",
       "      <th>Genus</th>\n",
       "      <th>Species_name</th>\n",
       "      <th>Subspecies</th>\n",
       "      <th>Genus_species</th>\n",
       "      <th>DBH_cm</th>\n",
       "      <th>DRC_cm</th>\n",
       "      <th>HT_m</th>\n",
       "      <th>HCB_pre</th>\n",
       "      <th>CR_pre</th>\n",
       "      <th>CC</th>\n",
       "      <th>VR</th>\n",
       "      <th>CL_m</th>\n",
       "      <th>yr0status</th>\n",
       "      <th>yr1status</th>\n",
       "      <th>yr2status</th>\n",
       "      <th>yr3status</th>\n",
       "      <th>yr4status</th>\n",
       "      <th>yr5status</th>\n",
       "      <th>yr6status</th>\n",
       "      <th>yr7status</th>\n",
       "      <th>yr8status</th>\n",
       "      <th>yr9status</th>\n",
       "      <th>yr10status</th>\n",
       "      <th>HCB_post</th>\n",
       "      <th>CR_post</th>\n",
       "      <th>CSH_m</th>\n",
       "      <th>CLS_m</th>\n",
       "      <th>CLK_m</th>\n",
       "      <th>CLS_percent</th>\n",
       "      <th>CLK_percent</th>\n",
       "      <th>CVS_percent</th>\n",
       "      <th>CVK_percent</th>\n",
       "      <th>CVC_percent</th>\n",
       "      <th>CBS</th>\n",
       "      <th>BCHA_m</th>\n",
       "      <th>BCHM_m</th>\n",
       "      <th>BCH_percent</th>\n",
       "      <th>BCA</th>\n",
       "      <th>CKR</th>\n",
       "      <th>GCA</th>\n",
       "      <th>GIR_percent</th>\n",
       "      <th>DMR</th>\n",
       "      <th>BTL</th>\n",
       "      <th>AB</th>\n",
       "      <th>DFB</th>\n",
       "      <th>FEN</th>\n",
       "      <th>IPS</th>\n",
       "      <th>MPB</th>\n",
       "      <th>RPB</th>\n",
       "      <th>RTB</th>\n",
       "      <th>SB</th>\n",
       "      <th>WPB</th>\n",
       "      <th>WB</th>\n",
       "      <th>SPB</th>\n",
       "      <th>CVS_percent_source</th>\n",
       "      <th>CVK_percent_source</th>\n",
       "    </tr>\n",
       "  </thead>\n",
       "  <tbody>\n",
       "    <tr>\n",
       "      <th>0</th>\n",
       "      <td>2006 - Tripod</td>\n",
       "      <td>2TREE</td>\n",
       "      <td>Prichard</td>\n",
       "      <td>1</td>\n",
       "      <td>NaN</td>\n",
       "      <td>188</td>\n",
       "      <td>15</td>\n",
       "      <td>NaN</td>\n",
       "      <td>NaN</td>\n",
       "      <td>NaN</td>\n",
       "      <td>NaN</td>\n",
       "      <td>Unknown</td>\n",
       "      <td>26.416</td>\n",
       "      <td>NaN</td>\n",
       "      <td>21.03</td>\n",
       "      <td>NaN</td>\n",
       "      <td>NaN</td>\n",
       "      <td>NaN</td>\n",
       "      <td>NaN</td>\n",
       "      <td>NaN</td>\n",
       "      <td>NaN</td>\n",
       "      <td>1.0</td>\n",
       "      <td>1.0</td>\n",
       "      <td>1.0</td>\n",
       "      <td>NaN</td>\n",
       "      <td>NaN</td>\n",
       "      <td>NaN</td>\n",
       "      <td>NaN</td>\n",
       "      <td>NaN</td>\n",
       "      <td>NaN</td>\n",
       "      <td>NaN</td>\n",
       "      <td>NaN</td>\n",
       "      <td>NaN</td>\n",
       "      <td>NaN</td>\n",
       "      <td>NaN</td>\n",
       "      <td>NaN</td>\n",
       "      <td>NaN</td>\n",
       "      <td>NaN</td>\n",
       "      <td>100.0</td>\n",
       "      <td>NaN</td>\n",
       "      <td>NaN</td>\n",
       "      <td>NaN</td>\n",
       "      <td>21.03</td>\n",
       "      <td>21.03</td>\n",
       "      <td>100.0</td>\n",
       "      <td>NaN</td>\n",
       "      <td>NaN</td>\n",
       "      <td>NaN</td>\n",
       "      <td>NaN</td>\n",
       "      <td>NaN</td>\n",
       "      <td>0.0</td>\n",
       "      <td>NaN</td>\n",
       "      <td>NaN</td>\n",
       "      <td>NaN</td>\n",
       "      <td>NaN</td>\n",
       "      <td>NaN</td>\n",
       "      <td>NaN</td>\n",
       "      <td>NaN</td>\n",
       "      <td>NaN</td>\n",
       "      <td>NaN</td>\n",
       "      <td>NaN</td>\n",
       "      <td>NaN</td>\n",
       "      <td>F</td>\n",
       "      <td>NaN</td>\n",
       "    </tr>\n",
       "    <tr>\n",
       "      <th>1</th>\n",
       "      <td>2006 - Tripod</td>\n",
       "      <td>2TREE</td>\n",
       "      <td>Prichard</td>\n",
       "      <td>1</td>\n",
       "      <td>NaN</td>\n",
       "      <td>74</td>\n",
       "      <td>20</td>\n",
       "      <td>NaN</td>\n",
       "      <td>NaN</td>\n",
       "      <td>NaN</td>\n",
       "      <td>NaN</td>\n",
       "      <td>Unknown</td>\n",
       "      <td>1.270</td>\n",
       "      <td>NaN</td>\n",
       "      <td>2.13</td>\n",
       "      <td>1.52</td>\n",
       "      <td>0.29</td>\n",
       "      <td>NaN</td>\n",
       "      <td>NaN</td>\n",
       "      <td>0.61</td>\n",
       "      <td>NaN</td>\n",
       "      <td>1.0</td>\n",
       "      <td>1.0</td>\n",
       "      <td>1.0</td>\n",
       "      <td>NaN</td>\n",
       "      <td>NaN</td>\n",
       "      <td>NaN</td>\n",
       "      <td>NaN</td>\n",
       "      <td>NaN</td>\n",
       "      <td>NaN</td>\n",
       "      <td>NaN</td>\n",
       "      <td>NaN</td>\n",
       "      <td>NaN</td>\n",
       "      <td>NaN</td>\n",
       "      <td>NaN</td>\n",
       "      <td>NaN</td>\n",
       "      <td>NaN</td>\n",
       "      <td>NaN</td>\n",
       "      <td>100.0</td>\n",
       "      <td>NaN</td>\n",
       "      <td>NaN</td>\n",
       "      <td>NaN</td>\n",
       "      <td>0.61</td>\n",
       "      <td>0.61</td>\n",
       "      <td>29.0</td>\n",
       "      <td>NaN</td>\n",
       "      <td>NaN</td>\n",
       "      <td>NaN</td>\n",
       "      <td>NaN</td>\n",
       "      <td>NaN</td>\n",
       "      <td>0.0</td>\n",
       "      <td>NaN</td>\n",
       "      <td>NaN</td>\n",
       "      <td>NaN</td>\n",
       "      <td>NaN</td>\n",
       "      <td>NaN</td>\n",
       "      <td>NaN</td>\n",
       "      <td>NaN</td>\n",
       "      <td>NaN</td>\n",
       "      <td>NaN</td>\n",
       "      <td>NaN</td>\n",
       "      <td>NaN</td>\n",
       "      <td>F</td>\n",
       "      <td>NaN</td>\n",
       "    </tr>\n",
       "    <tr>\n",
       "      <th>2</th>\n",
       "      <td>2006 - Tripod</td>\n",
       "      <td>2TREE</td>\n",
       "      <td>Prichard</td>\n",
       "      <td>1</td>\n",
       "      <td>NaN</td>\n",
       "      <td>193</td>\n",
       "      <td>22</td>\n",
       "      <td>NaN</td>\n",
       "      <td>NaN</td>\n",
       "      <td>NaN</td>\n",
       "      <td>NaN</td>\n",
       "      <td>Unknown</td>\n",
       "      <td>25.400</td>\n",
       "      <td>NaN</td>\n",
       "      <td>18.29</td>\n",
       "      <td>NaN</td>\n",
       "      <td>NaN</td>\n",
       "      <td>NaN</td>\n",
       "      <td>NaN</td>\n",
       "      <td>NaN</td>\n",
       "      <td>NaN</td>\n",
       "      <td>1.0</td>\n",
       "      <td>1.0</td>\n",
       "      <td>1.0</td>\n",
       "      <td>NaN</td>\n",
       "      <td>NaN</td>\n",
       "      <td>NaN</td>\n",
       "      <td>NaN</td>\n",
       "      <td>NaN</td>\n",
       "      <td>NaN</td>\n",
       "      <td>NaN</td>\n",
       "      <td>NaN</td>\n",
       "      <td>NaN</td>\n",
       "      <td>NaN</td>\n",
       "      <td>NaN</td>\n",
       "      <td>NaN</td>\n",
       "      <td>NaN</td>\n",
       "      <td>NaN</td>\n",
       "      <td>100.0</td>\n",
       "      <td>NaN</td>\n",
       "      <td>NaN</td>\n",
       "      <td>NaN</td>\n",
       "      <td>18.29</td>\n",
       "      <td>18.29</td>\n",
       "      <td>100.0</td>\n",
       "      <td>NaN</td>\n",
       "      <td>NaN</td>\n",
       "      <td>NaN</td>\n",
       "      <td>NaN</td>\n",
       "      <td>NaN</td>\n",
       "      <td>0.0</td>\n",
       "      <td>NaN</td>\n",
       "      <td>NaN</td>\n",
       "      <td>NaN</td>\n",
       "      <td>NaN</td>\n",
       "      <td>NaN</td>\n",
       "      <td>NaN</td>\n",
       "      <td>NaN</td>\n",
       "      <td>NaN</td>\n",
       "      <td>NaN</td>\n",
       "      <td>NaN</td>\n",
       "      <td>NaN</td>\n",
       "      <td>F</td>\n",
       "      <td>NaN</td>\n",
       "    </tr>\n",
       "    <tr>\n",
       "      <th>3</th>\n",
       "      <td>2006 - Tripod</td>\n",
       "      <td>2TREE</td>\n",
       "      <td>Prichard</td>\n",
       "      <td>1</td>\n",
       "      <td>NaN</td>\n",
       "      <td>126</td>\n",
       "      <td>6</td>\n",
       "      <td>NaN</td>\n",
       "      <td>NaN</td>\n",
       "      <td>NaN</td>\n",
       "      <td>NaN</td>\n",
       "      <td>Unknown</td>\n",
       "      <td>8.382</td>\n",
       "      <td>NaN</td>\n",
       "      <td>14.33</td>\n",
       "      <td>8.84</td>\n",
       "      <td>0.38</td>\n",
       "      <td>NaN</td>\n",
       "      <td>NaN</td>\n",
       "      <td>5.49</td>\n",
       "      <td>NaN</td>\n",
       "      <td>1.0</td>\n",
       "      <td>1.0</td>\n",
       "      <td>1.0</td>\n",
       "      <td>NaN</td>\n",
       "      <td>NaN</td>\n",
       "      <td>NaN</td>\n",
       "      <td>NaN</td>\n",
       "      <td>NaN</td>\n",
       "      <td>NaN</td>\n",
       "      <td>NaN</td>\n",
       "      <td>NaN</td>\n",
       "      <td>NaN</td>\n",
       "      <td>NaN</td>\n",
       "      <td>NaN</td>\n",
       "      <td>NaN</td>\n",
       "      <td>NaN</td>\n",
       "      <td>NaN</td>\n",
       "      <td>100.0</td>\n",
       "      <td>NaN</td>\n",
       "      <td>NaN</td>\n",
       "      <td>NaN</td>\n",
       "      <td>8.08</td>\n",
       "      <td>12.80</td>\n",
       "      <td>89.0</td>\n",
       "      <td>NaN</td>\n",
       "      <td>NaN</td>\n",
       "      <td>NaN</td>\n",
       "      <td>NaN</td>\n",
       "      <td>NaN</td>\n",
       "      <td>0.0</td>\n",
       "      <td>NaN</td>\n",
       "      <td>NaN</td>\n",
       "      <td>NaN</td>\n",
       "      <td>NaN</td>\n",
       "      <td>NaN</td>\n",
       "      <td>NaN</td>\n",
       "      <td>NaN</td>\n",
       "      <td>NaN</td>\n",
       "      <td>NaN</td>\n",
       "      <td>NaN</td>\n",
       "      <td>NaN</td>\n",
       "      <td>F</td>\n",
       "      <td>NaN</td>\n",
       "    </tr>\n",
       "    <tr>\n",
       "      <th>4</th>\n",
       "      <td>2006 - Tripod</td>\n",
       "      <td>2TREE</td>\n",
       "      <td>Prichard</td>\n",
       "      <td>1</td>\n",
       "      <td>NaN</td>\n",
       "      <td>113</td>\n",
       "      <td>11</td>\n",
       "      <td>NaN</td>\n",
       "      <td>NaN</td>\n",
       "      <td>NaN</td>\n",
       "      <td>NaN</td>\n",
       "      <td>Unknown</td>\n",
       "      <td>21.844</td>\n",
       "      <td>NaN</td>\n",
       "      <td>11.89</td>\n",
       "      <td>NaN</td>\n",
       "      <td>NaN</td>\n",
       "      <td>NaN</td>\n",
       "      <td>NaN</td>\n",
       "      <td>NaN</td>\n",
       "      <td>NaN</td>\n",
       "      <td>1.0</td>\n",
       "      <td>1.0</td>\n",
       "      <td>1.0</td>\n",
       "      <td>NaN</td>\n",
       "      <td>NaN</td>\n",
       "      <td>NaN</td>\n",
       "      <td>NaN</td>\n",
       "      <td>NaN</td>\n",
       "      <td>NaN</td>\n",
       "      <td>NaN</td>\n",
       "      <td>NaN</td>\n",
       "      <td>NaN</td>\n",
       "      <td>NaN</td>\n",
       "      <td>NaN</td>\n",
       "      <td>NaN</td>\n",
       "      <td>NaN</td>\n",
       "      <td>NaN</td>\n",
       "      <td>100.0</td>\n",
       "      <td>NaN</td>\n",
       "      <td>NaN</td>\n",
       "      <td>NaN</td>\n",
       "      <td>11.89</td>\n",
       "      <td>11.89</td>\n",
       "      <td>100.0</td>\n",
       "      <td>NaN</td>\n",
       "      <td>NaN</td>\n",
       "      <td>NaN</td>\n",
       "      <td>NaN</td>\n",
       "      <td>NaN</td>\n",
       "      <td>0.0</td>\n",
       "      <td>NaN</td>\n",
       "      <td>NaN</td>\n",
       "      <td>NaN</td>\n",
       "      <td>NaN</td>\n",
       "      <td>NaN</td>\n",
       "      <td>NaN</td>\n",
       "      <td>NaN</td>\n",
       "      <td>NaN</td>\n",
       "      <td>NaN</td>\n",
       "      <td>NaN</td>\n",
       "      <td>NaN</td>\n",
       "      <td>F</td>\n",
       "      <td>NaN</td>\n",
       "    </tr>\n",
       "  </tbody>\n",
       "</table>\n",
       "</div>"
      ],
      "text/plain": [
       "      YrFireName Species   Dataset  Times_burned   ID Plot TreeNum Unit Genus  \\\n",
       "0  2006 - Tripod   2TREE  Prichard             1  NaN  188      15  NaN   NaN   \n",
       "1  2006 - Tripod   2TREE  Prichard             1  NaN   74      20  NaN   NaN   \n",
       "2  2006 - Tripod   2TREE  Prichard             1  NaN  193      22  NaN   NaN   \n",
       "3  2006 - Tripod   2TREE  Prichard             1  NaN  126       6  NaN   NaN   \n",
       "4  2006 - Tripod   2TREE  Prichard             1  NaN  113      11  NaN   NaN   \n",
       "\n",
       "  Species_name Subspecies Genus_species  DBH_cm  DRC_cm   HT_m  HCB_pre  \\\n",
       "0          NaN        NaN       Unknown  26.416     NaN  21.03      NaN   \n",
       "1          NaN        NaN       Unknown   1.270     NaN   2.13     1.52   \n",
       "2          NaN        NaN       Unknown  25.400     NaN  18.29      NaN   \n",
       "3          NaN        NaN       Unknown   8.382     NaN  14.33     8.84   \n",
       "4          NaN        NaN       Unknown  21.844     NaN  11.89      NaN   \n",
       "\n",
       "   CR_pre  CC  VR  CL_m  yr0status  yr1status  yr2status  yr3status  \\\n",
       "0     NaN NaN NaN   NaN        NaN        1.0        1.0        1.0   \n",
       "1    0.29 NaN NaN  0.61        NaN        1.0        1.0        1.0   \n",
       "2     NaN NaN NaN   NaN        NaN        1.0        1.0        1.0   \n",
       "3    0.38 NaN NaN  5.49        NaN        1.0        1.0        1.0   \n",
       "4     NaN NaN NaN   NaN        NaN        1.0        1.0        1.0   \n",
       "\n",
       "   yr4status  yr5status  yr6status  yr7status  yr8status  yr9status  \\\n",
       "0        NaN        NaN        NaN        NaN        NaN        NaN   \n",
       "1        NaN        NaN        NaN        NaN        NaN        NaN   \n",
       "2        NaN        NaN        NaN        NaN        NaN        NaN   \n",
       "3        NaN        NaN        NaN        NaN        NaN        NaN   \n",
       "4        NaN        NaN        NaN        NaN        NaN        NaN   \n",
       "\n",
       "   yr10status  HCB_post  CR_post  CSH_m  CLS_m  CLK_m  CLS_percent  \\\n",
       "0         NaN       NaN      NaN    NaN    NaN    NaN          NaN   \n",
       "1         NaN       NaN      NaN    NaN    NaN    NaN          NaN   \n",
       "2         NaN       NaN      NaN    NaN    NaN    NaN          NaN   \n",
       "3         NaN       NaN      NaN    NaN    NaN    NaN          NaN   \n",
       "4         NaN       NaN      NaN    NaN    NaN    NaN          NaN   \n",
       "\n",
       "   CLK_percent  CVS_percent  CVK_percent  CVC_percent  CBS  BCHA_m  BCHM_m  \\\n",
       "0          NaN        100.0          NaN          NaN  NaN   21.03   21.03   \n",
       "1          NaN        100.0          NaN          NaN  NaN    0.61    0.61   \n",
       "2          NaN        100.0          NaN          NaN  NaN   18.29   18.29   \n",
       "3          NaN        100.0          NaN          NaN  NaN    8.08   12.80   \n",
       "4          NaN        100.0          NaN          NaN  NaN   11.89   11.89   \n",
       "\n",
       "   BCH_percent  BCA  CKR  GCA  GIR_percent  DMR  BTL  AB  DFB  FEN  IPS  MPB  \\\n",
       "0        100.0  NaN  NaN  NaN          NaN  NaN  0.0 NaN  NaN  NaN  NaN  NaN   \n",
       "1         29.0  NaN  NaN  NaN          NaN  NaN  0.0 NaN  NaN  NaN  NaN  NaN   \n",
       "2        100.0  NaN  NaN  NaN          NaN  NaN  0.0 NaN  NaN  NaN  NaN  NaN   \n",
       "3         89.0  NaN  NaN  NaN          NaN  NaN  0.0 NaN  NaN  NaN  NaN  NaN   \n",
       "4        100.0  NaN  NaN  NaN          NaN  NaN  0.0 NaN  NaN  NaN  NaN  NaN   \n",
       "\n",
       "   RPB  RTB  SB  WPB  WB  SPB CVS_percent_source CVK_percent_source  \n",
       "0  NaN  NaN NaN  NaN NaN  NaN                  F                NaN  \n",
       "1  NaN  NaN NaN  NaN NaN  NaN                  F                NaN  \n",
       "2  NaN  NaN NaN  NaN NaN  NaN                  F                NaN  \n",
       "3  NaN  NaN NaN  NaN NaN  NaN                  F                NaN  \n",
       "4  NaN  NaN NaN  NaN NaN  NaN                  F                NaN  "
      ]
     },
     "execution_count": 3,
     "metadata": {},
     "output_type": "execute_result"
    }
   ],
   "source": [
    "# explore data set\n",
    "pd.set_option(\"display.max_columns\", None)\n",
    "trees_dat.head(5)"
   ]
  },
  {
   "cell_type": "code",
   "execution_count": 4,
   "id": "f6c7b532-ccdb-4790-b192-7b5d9da905aa",
   "metadata": {
    "tags": []
   },
   "outputs": [],
   "source": [
    "# Select only relevant columns\n",
    "trees_dat = trees_dat[['YrFireName', 'Times_burned', 'Species', 'Genus_species',  'DBH_cm', 'HT_m', 'CR_pre', 'CR_post', 'yr1status']]"
   ]
  },
  {
   "cell_type": "code",
   "execution_count": 5,
   "id": "97f9dbf9-de3b-487d-bdf8-69839ed0de8d",
   "metadata": {
    "tags": []
   },
   "outputs": [
    {
     "data": {
      "text/plain": [
       "YrFireName        object\n",
       "Times_burned       int64\n",
       "Species           object\n",
       "Genus_species     object\n",
       "DBH_cm           float64\n",
       "HT_m             float64\n",
       "CR_pre           float64\n",
       "CR_post          float64\n",
       "yr1status        float64\n",
       "dtype: object"
      ]
     },
     "execution_count": 5,
     "metadata": {},
     "output_type": "execute_result"
    }
   ],
   "source": [
    "trees_dat.dtypes"
   ]
  },
  {
   "cell_type": "code",
   "execution_count": 6,
   "id": "4f19bf84-2e63-4131-8820-8e768a74fbce",
   "metadata": {
    "tags": []
   },
   "outputs": [],
   "source": [
    "# Remove all rows with NaNs\n",
    "trees_dat = trees_dat.dropna()"
   ]
  },
  {
   "cell_type": "code",
   "execution_count": 7,
   "id": "1de18893-d150-49ec-88f9-23b2f997db0a",
   "metadata": {
    "tags": []
   },
   "outputs": [
    {
     "data": {
      "text/plain": [
       "array(['2003 - Griff', '2002 - McNalley', '1999 - Bucks', '2001 - Star',\n",
       "       '2000 - Storrie', '2001 - Swain', '1999 - Volcano Fall',\n",
       "       '2000 - Volcano Spring', '2003 - B and B', '2006 - Shake Table',\n",
       "       '2007 - Grapple', '2002 - Biscuit', '2002 - Apple',\n",
       "       '2003 - Davis Lake', '2002 - Tiller', '1999 - Rancheria Creek',\n",
       "       '2005 - School', '2006 - Tripod', '1983 - Upper Priest',\n",
       "       '1984 - Lower Priest', '2006 - Sharps Ridge',\n",
       "       '2003 - Bull Springs', '2006 - Columbia', '2002 - Tenderfoot Fall',\n",
       "       '2005 - Blossom', '2007 - Monument', '2002 - Lubrecht',\n",
       "       '2003 - Tenderfoot Spring', '2016 - Maple', '2002 - Cone',\n",
       "       '1994 - Barkley', '1994 - Crystal', '2004 - Power',\n",
       "       '2005 - Second Hud', '2007 - Egley', '2004 - Nile',\n",
       "       '2004 - Squaw Creek', '2005 - Pearrygin Lake', '2006 - Sisters',\n",
       "       '2004 - Fischer', '2001 - Quartz', '2004 - Black Rock',\n",
       "       '1997 - Driveway 14 - Fall', '1998 - Driveway 14 - Spring',\n",
       "       '1998 - Driveway 17 - Spring', '1997 - Driveway 17 - Fall',\n",
       "       '1997 - Driveway 26 - Fall', '1998 - Driveway 26 - Spring',\n",
       "       '1998 - Driveway 28 - Spring', '1997 - Driveway 28 - Fall',\n",
       "       '2004 - Gabe', '2003 - Hog Flat - Spring',\n",
       "       '2002 - Hog Flat - Fall', '1997 - Kidd Flat - Fall',\n",
       "       '1998 - Kidd Flat - Spring', '2003 - Snow Mountain - Spring',\n",
       "       '2002 - Snow Mountain - Fall', '2004 - Squaw Meadow',\n",
       "       '2004 - Tennant', '1998 - Trout - Spring', '1997 - Trout - Fall',\n",
       "       '2006 - 4712 Road', '2006 - Bear', '2006 - Burnt Valley 10',\n",
       "       '2006 - Burnt Valley 4', '2006 - Geophysical', '2006 - Lick',\n",
       "       '2006 - Mitten', '2007 - Owen', '2006 - Sheep Creek',\n",
       "       '2006 - Stateline', '2003 - Clark', '2003 - Herman Creek',\n",
       "       '2004 - Bonanza'], dtype=object)"
      ]
     },
     "execution_count": 7,
     "metadata": {},
     "output_type": "execute_result"
    }
   ],
   "source": [
    "trees_dat['YrFireName'].unique()"
   ]
  },
  {
   "cell_type": "code",
   "execution_count": 8,
   "id": "81761940-7475-4da1-962c-739a3932c9d2",
   "metadata": {
    "tags": []
   },
   "outputs": [
    {
     "name": "stdout",
     "output_type": "stream",
     "text": [
      "The number of rows within the new cleaned data set is: 36509\n"
     ]
    }
   ],
   "source": [
    "# Print total number of observations\n",
    "print(f\"The number of rows within the new cleaned data set is: {trees_dat.shape[0]}\")"
   ]
  },
  {
   "cell_type": "code",
   "execution_count": 9,
   "id": "eb1b87bb-df37-4c24-8be9-5b7e13f4a4e3",
   "metadata": {
    "tags": []
   },
   "outputs": [
    {
     "data": {
      "text/html": [
       "<div>\n",
       "<style scoped>\n",
       "    .dataframe tbody tr th:only-of-type {\n",
       "        vertical-align: middle;\n",
       "    }\n",
       "\n",
       "    .dataframe tbody tr th {\n",
       "        vertical-align: top;\n",
       "    }\n",
       "\n",
       "    .dataframe thead th {\n",
       "        text-align: right;\n",
       "    }\n",
       "</style>\n",
       "<table border=\"1\" class=\"dataframe\">\n",
       "  <thead>\n",
       "    <tr style=\"text-align: right;\">\n",
       "      <th></th>\n",
       "      <th>YrFireName</th>\n",
       "      <th>Times_burned</th>\n",
       "      <th>Species</th>\n",
       "      <th>Genus_species</th>\n",
       "      <th>DBH_cm</th>\n",
       "      <th>HT_m</th>\n",
       "      <th>CR_pre</th>\n",
       "      <th>CR_post</th>\n",
       "      <th>yr1status</th>\n",
       "    </tr>\n",
       "  </thead>\n",
       "  <tbody>\n",
       "    <tr>\n",
       "      <th>500</th>\n",
       "      <td>2003 - Griff</td>\n",
       "      <td>1</td>\n",
       "      <td>ABAM</td>\n",
       "      <td>Abies_amabilis</td>\n",
       "      <td>71.374</td>\n",
       "      <td>41.76</td>\n",
       "      <td>0.84</td>\n",
       "      <td>0.74</td>\n",
       "      <td>0.0</td>\n",
       "    </tr>\n",
       "    <tr>\n",
       "      <th>501</th>\n",
       "      <td>2003 - Griff</td>\n",
       "      <td>1</td>\n",
       "      <td>ABAM</td>\n",
       "      <td>Abies_amabilis</td>\n",
       "      <td>23.622</td>\n",
       "      <td>12.80</td>\n",
       "      <td>0.60</td>\n",
       "      <td>0.57</td>\n",
       "      <td>0.0</td>\n",
       "    </tr>\n",
       "    <tr>\n",
       "      <th>502</th>\n",
       "      <td>2003 - Griff</td>\n",
       "      <td>1</td>\n",
       "      <td>ABAM</td>\n",
       "      <td>Abies_amabilis</td>\n",
       "      <td>46.228</td>\n",
       "      <td>34.75</td>\n",
       "      <td>0.75</td>\n",
       "      <td>0.59</td>\n",
       "      <td>0.0</td>\n",
       "    </tr>\n",
       "    <tr>\n",
       "      <th>503</th>\n",
       "      <td>2003 - Griff</td>\n",
       "      <td>1</td>\n",
       "      <td>ABAM</td>\n",
       "      <td>Abies_amabilis</td>\n",
       "      <td>21.082</td>\n",
       "      <td>23.16</td>\n",
       "      <td>0.38</td>\n",
       "      <td>0.38</td>\n",
       "      <td>0.0</td>\n",
       "    </tr>\n",
       "    <tr>\n",
       "      <th>504</th>\n",
       "      <td>2003 - Griff</td>\n",
       "      <td>1</td>\n",
       "      <td>ABAM</td>\n",
       "      <td>Abies_amabilis</td>\n",
       "      <td>24.384</td>\n",
       "      <td>26.21</td>\n",
       "      <td>0.42</td>\n",
       "      <td>0.42</td>\n",
       "      <td>0.0</td>\n",
       "    </tr>\n",
       "  </tbody>\n",
       "</table>\n",
       "</div>"
      ],
      "text/plain": [
       "       YrFireName  Times_burned Species   Genus_species  DBH_cm   HT_m  \\\n",
       "500  2003 - Griff             1    ABAM  Abies_amabilis  71.374  41.76   \n",
       "501  2003 - Griff             1    ABAM  Abies_amabilis  23.622  12.80   \n",
       "502  2003 - Griff             1    ABAM  Abies_amabilis  46.228  34.75   \n",
       "503  2003 - Griff             1    ABAM  Abies_amabilis  21.082  23.16   \n",
       "504  2003 - Griff             1    ABAM  Abies_amabilis  24.384  26.21   \n",
       "\n",
       "     CR_pre  CR_post  yr1status  \n",
       "500    0.84     0.74        0.0  \n",
       "501    0.60     0.57        0.0  \n",
       "502    0.75     0.59        0.0  \n",
       "503    0.38     0.38        0.0  \n",
       "504    0.42     0.42        0.0  "
      ]
     },
     "execution_count": 9,
     "metadata": {},
     "output_type": "execute_result"
    }
   ],
   "source": [
    "# Look at cleaned data frame\n",
    "trees_dat.head()"
   ]
  },
  {
   "cell_type": "markdown",
   "id": "aaf806bf",
   "metadata": {},
   "source": [
    "## Step 3: Data Preprocessing\n",
    "1. We recode categorical predictors to zero-based integer form because most machine learning models, including logistic regression, cannot work directly with categorical data represented as strings or labels. Instead, models require numerical input. Let's do that here. \n"
   ]
  },
  {
   "cell_type": "code",
   "execution_count": 10,
   "id": "1e41fb79-ad31-4162-ac76-887461bb4160",
   "metadata": {
    "tags": []
   },
   "outputs": [
    {
     "data": {
      "text/html": [
       "<div>\n",
       "<style scoped>\n",
       "    .dataframe tbody tr th:only-of-type {\n",
       "        vertical-align: middle;\n",
       "    }\n",
       "\n",
       "    .dataframe tbody tr th {\n",
       "        vertical-align: top;\n",
       "    }\n",
       "\n",
       "    .dataframe thead th {\n",
       "        text-align: right;\n",
       "    }\n",
       "</style>\n",
       "<table border=\"1\" class=\"dataframe\">\n",
       "  <thead>\n",
       "    <tr style=\"text-align: right;\">\n",
       "      <th></th>\n",
       "      <th>YrFireName</th>\n",
       "      <th>Times_burned</th>\n",
       "      <th>Species</th>\n",
       "      <th>Genus_species</th>\n",
       "      <th>DBH_cm</th>\n",
       "      <th>HT_m</th>\n",
       "      <th>CR_pre</th>\n",
       "      <th>CR_post</th>\n",
       "      <th>yr1status</th>\n",
       "    </tr>\n",
       "  </thead>\n",
       "  <tbody>\n",
       "    <tr>\n",
       "      <th>500</th>\n",
       "      <td>37</td>\n",
       "      <td>1</td>\n",
       "      <td>0</td>\n",
       "      <td>0</td>\n",
       "      <td>71.374</td>\n",
       "      <td>41.76</td>\n",
       "      <td>0.84</td>\n",
       "      <td>0.74</td>\n",
       "      <td>0.0</td>\n",
       "    </tr>\n",
       "    <tr>\n",
       "      <th>501</th>\n",
       "      <td>37</td>\n",
       "      <td>1</td>\n",
       "      <td>0</td>\n",
       "      <td>0</td>\n",
       "      <td>23.622</td>\n",
       "      <td>12.80</td>\n",
       "      <td>0.60</td>\n",
       "      <td>0.57</td>\n",
       "      <td>0.0</td>\n",
       "    </tr>\n",
       "    <tr>\n",
       "      <th>502</th>\n",
       "      <td>37</td>\n",
       "      <td>1</td>\n",
       "      <td>0</td>\n",
       "      <td>0</td>\n",
       "      <td>46.228</td>\n",
       "      <td>34.75</td>\n",
       "      <td>0.75</td>\n",
       "      <td>0.59</td>\n",
       "      <td>0.0</td>\n",
       "    </tr>\n",
       "    <tr>\n",
       "      <th>503</th>\n",
       "      <td>37</td>\n",
       "      <td>1</td>\n",
       "      <td>0</td>\n",
       "      <td>0</td>\n",
       "      <td>21.082</td>\n",
       "      <td>23.16</td>\n",
       "      <td>0.38</td>\n",
       "      <td>0.38</td>\n",
       "      <td>0.0</td>\n",
       "    </tr>\n",
       "    <tr>\n",
       "      <th>504</th>\n",
       "      <td>37</td>\n",
       "      <td>1</td>\n",
       "      <td>0</td>\n",
       "      <td>0</td>\n",
       "      <td>24.384</td>\n",
       "      <td>26.21</td>\n",
       "      <td>0.42</td>\n",
       "      <td>0.42</td>\n",
       "      <td>0.0</td>\n",
       "    </tr>\n",
       "  </tbody>\n",
       "</table>\n",
       "</div>"
      ],
      "text/plain": [
       "     YrFireName  Times_burned  Species  Genus_species  DBH_cm   HT_m  CR_pre  \\\n",
       "500          37             1        0              0  71.374  41.76    0.84   \n",
       "501          37             1        0              0  23.622  12.80    0.60   \n",
       "502          37             1        0              0  46.228  34.75    0.75   \n",
       "503          37             1        0              0  21.082  23.16    0.38   \n",
       "504          37             1        0              0  24.384  26.21    0.42   \n",
       "\n",
       "     CR_post  yr1status  \n",
       "500     0.74        0.0  \n",
       "501     0.57        0.0  \n",
       "502     0.59        0.0  \n",
       "503     0.38        0.0  \n",
       "504     0.42        0.0  "
      ]
     },
     "execution_count": 10,
     "metadata": {},
     "output_type": "execute_result"
    }
   ],
   "source": [
    "# Recode categorical predictors to integers\n",
    "for col in ['YrFireName', 'Species', 'Genus_species']: # Factorize all categorical variables\n",
    "    trees_dat[col],_ = pd.factorize(trees_dat[col], sort=True) \n",
    "    \n",
    "# Check process worked...\n",
    "trees_dat.head()"
   ]
  },
  {
   "cell_type": "markdown",
   "id": "fdcc4673-26dc-4c09-8c9a-0f2f97abe16f",
   "metadata": {},
   "source": [
    "2. Then we'll split into training and test data and scale for coefficient interpretability.  Recall that we use the training features to calculate our scaling parameters (mean and standard deviation) and apply the scaling to those training features (`scaler.fit_transform`) and then apply the scaling to the features in the test data as well (`scaler.transform`).\n"
   ]
  },
  {
   "cell_type": "code",
   "execution_count": 11,
   "id": "5b9f2c63-b882-4fce-ae83-b8a568923c4b",
   "metadata": {
    "tags": []
   },
   "outputs": [],
   "source": [
    "# Assign predictor and outcome variables \n",
    "X = trees_dat.loc[:, trees_dat.columns != 'yr1status']\n",
    "Y = trees_dat['yr1status']\n",
    "\n",
    "# Create training and test data\n",
    "X_train, X_test, y_train, y_test = train_test_split(X, Y, test_size = 0.3)"
   ]
  },
  {
   "cell_type": "code",
   "execution_count": 12,
   "id": "78b53788-2327-4930-b38e-0a1fe8a9c8bc",
   "metadata": {
    "tags": []
   },
   "outputs": [],
   "source": [
    "# Standardize the predictors\n",
    "scaler = StandardScaler()\n",
    "X_train = scaler.fit_transform(X_train)\n",
    "X_test = scaler.fit_transform(X_test)"
   ]
  },
  {
   "cell_type": "markdown",
   "id": "3055eca1-9c22-4266-95a0-710b43be5a8e",
   "metadata": {},
   "source": [
    "3. How many training/test observations do we have? Print your answer in the cell below. "
   ]
  },
  {
   "cell_type": "code",
   "execution_count": 13,
   "id": "fdb4803d-8680-4ede-b790-3579f4a485e7",
   "metadata": {
    "tags": []
   },
   "outputs": [
    {
     "name": "stdout",
     "output_type": "stream",
     "text": [
      "Training set observations:25556\n",
      "Testing set observations:10953\n"
     ]
    }
   ],
   "source": [
    "# Verify the training and testing set size\n",
    "print(f\"Training set observations:{X_train.shape[0]}\" )\n",
    "print(f\"Testing set observations:{y_test.shape[0]}\")"
   ]
  },
  {
   "cell_type": "markdown",
   "id": "4ca8857c",
   "metadata": {},
   "source": [
    "## Step 4: Train a Logistical Model\n",
    "Create a classifier using `LogisticRegression()` and fit it on the training data.  Then assess the model's accuracy on the training set by making predictions on the training data.  Calculate and **print** the accuracy of your model on the training set. "
   ]
  },
  {
   "cell_type": "code",
   "execution_count": 14,
   "id": "bb52b750-bb46-4396-91d4-db0cc9e0410a",
   "metadata": {
    "tags": []
   },
   "outputs": [],
   "source": [
    "# Create a classifier using LogisticRegression()\n",
    "model = LogisticRegression() \n",
    "model.fit(X_train, y_train) # Fit model\n",
    "\n",
    "# Probablity of y over threshold\n",
    "y_pred = model.predict(X_test)\n",
    "score = accuracy_score(y_test, y_pred)"
   ]
  },
  {
   "cell_type": "code",
   "execution_count": 15,
   "id": "5f824a5e-e000-44c4-b8d6-01b93b2cb22e",
   "metadata": {
    "tags": []
   },
   "outputs": [
    {
     "name": "stdout",
     "output_type": "stream",
     "text": [
      "Training Accuracy: 0.9423902127271068\n"
     ]
    }
   ],
   "source": [
    "print(f\"Training Accuracy: {score}\")"
   ]
  },
  {
   "cell_type": "markdown",
   "id": "34d86616",
   "metadata": {},
   "source": [
    "## Step 5: Test Set Predictions and Model Evaluation\n",
    "Now let's take our trained logistic classifier and make predictions on the test set. Calculate the accuracy and confusion matrix. Then use `sns.heatmap` for improved confusion matrix visualization."
   ]
  },
  {
   "cell_type": "code",
   "execution_count": 16,
   "id": "04d72ab4-497d-408a-8484-4bc31d44c3b0",
   "metadata": {
    "tags": []
   },
   "outputs": [
    {
     "name": "stdout",
     "output_type": "stream",
     "text": [
      "Metrics:               precision    recall  f1-score   support\n",
      "\n",
      "         0.0       0.95      0.98      0.97     10049\n",
      "         1.0       0.74      0.47      0.57       904\n",
      "\n",
      "    accuracy                           0.94     10953\n",
      "   macro avg       0.85      0.73      0.77     10953\n",
      "weighted avg       0.94      0.94      0.94     10953\n",
      "\n"
     ]
    }
   ],
   "source": [
    "# Print evaluation metrics\n",
    "print(f\"Metrics: {classification_report(y_test, y_pred)}\")"
   ]
  },
  {
   "cell_type": "code",
   "execution_count": 17,
   "id": "450b2072-4b9e-420f-92e9-a935611da965",
   "metadata": {
    "tags": []
   },
   "outputs": [],
   "source": [
    "# Define confusion matrix\n",
    "def plot_confusion_matrix(actual, predicted):\n",
    "    \n",
    "    # Create confusion matrix\n",
    "    cm = confusion_matrix(actual, predicted)\n",
    "    \n",
    "    # Create confusion matrix plot\n",
    "    plt.figure(figsize = (8,6))\n",
    "    sns.heatmap(cm, fmt = 'd', cmap = 'YlOrRd',annot = True,\n",
    "    xticklabels = ['Dead', 'Alive'], # how to tell which cell is which\n",
    "    yticklabels = ['Dead', 'Alive'])\n",
    "    \n",
    "    plt.title('Confusion Matrix of Dead or Alive Trees')\n",
    "    plt.ylabel('Actual')\n",
    "    plt.xlabel('Predicted')\n",
    "    plt.show()\n",
    "    \n",
    "    \n",
    "    # Calculate and display metrics\n",
    "    TP = cm[0,0] \n",
    "    FP = cm[0,1] \n",
    "    FN = cm[1,0]\n",
    "    TN = cm[1,1]\n",
    "    \n",
    "    print(f\"True positives (correctly predicted presence): {TP}\")\n",
    "    \n",
    "    \n",
    "    # Calculate accuracy + various metric \n",
    "    accuracy = (TP + TN) / (TP + TN + FP + FN)\n",
    "    sensitivity = TP/ (TP + FN)\n",
    "    specificity = TN / (TN + FP )\n",
    "    \n",
    "    \n",
    "    print(f\"\\nModel Performance Metrics:\")\n",
    "    print(f\"Accuracy: {accuracy:.3f}\")\n",
    "    print(f\"Sensitivity ( True positive rate): {sensitivity:.3f}\")\n",
    "    print(f\"Specificity ( True negative rate:) {specificity:.3f}\")"
   ]
  },
  {
   "cell_type": "code",
   "execution_count": 18,
   "id": "c0a6cb5f-6511-4a5d-b097-3f57bd7f5103",
   "metadata": {
    "tags": []
   },
   "outputs": [
    {
     "data": {
      "image/png": "[encoded data removed]",
      "text/plain": [
       "<Figure size 800x600 with 2 Axes>"
      ]
     },
     "metadata": {},
     "output_type": "display_data"
    },
    {
     "name": "stdout",
     "output_type": "stream",
     "text": [
      "True positives (correctly predicted presence): 9898\n",
      "\n",
      "Model Performance Metrics:\n",
      "Accuracy: 0.942\n",
      "Sensitivity ( True positive rate): 0.954\n",
      "Specificity ( True negative rate:) 0.737\n"
     ]
    }
   ],
   "source": [
    "plot_confusion_matrix(y_test, y_pred)"
   ]
  },
  {
   "cell_type": "markdown",
   "id": "9b5cdbbb",
   "metadata": {},
   "source": [
    "## Step 6: Logistic Classifier Evaluation\n",
    "How did your model perform on the unseen data? \n",
    "Does your model perform differently on observations of trees that survived vs trees that died?\n",
    "Is there a class imbalance in this data set?"
   ]
  },
  {
   "cell_type": "markdown",
   "id": "7c651ef7",
   "metadata": {},
   "source": [
    "The model's accuracy, or the number of trees correctly classified out of all the trees present in the test set, is 94.5%. This is very good. Looking at the model performance metrics further: the sensitivity rate of the model was 95.7% and the specificity rate of the model was 73.0%. This shows that the model predicts trees belonging to the positive or negative class (of all the trees in the positive or negative class in the test pool), at rates of 95.7 and 73.0 percent, respectively. This is also quite good, but does show a discrepancy in that the model tends to be better at predicting if trees are dead than if they had survived. There is a majority class imbalance in the data - as an overwhelming majority of the trees in the sample are shown to be dead."
   ]
  },
  {
   "cell_type": "markdown",
   "id": "c60c7e36",
   "metadata": {},
   "source": [
    "## Step 7: What about a Dummy?\n",
    "What do you think would happen if we built a model that always predicts the majority class (dead trees)? How would its accuracy compare to your logistic regression model?"
   ]
  },
  {
   "cell_type": "markdown",
   "id": "e66ba576",
   "metadata": {},
   "source": [
    "As the majority of the observations in the `yr1status` column are dead - I believe that building a model that always predicts the majority class would have a similiar accuracy to our previous model. However, there will a massively negative impact on the specificity rate - and a slight impact to the sensitivty rate as well."
   ]
  },
  {
   "cell_type": "markdown",
   "id": "6854360d",
   "metadata": {},
   "source": [
    "Let's go ahead and do it: use `DummyClassifier()` with the appropriate value for the 'strategy' parameter to train a majority classifier.  Then calculate this model's accuracy on the training data."
   ]
  },
  {
   "cell_type": "code",
   "execution_count": 19,
   "id": "f836dbbb-0ba4-4e42-8e4d-562c35e71ba4",
   "metadata": {
    "tags": []
   },
   "outputs": [],
   "source": [
    "# Create and fit dummy model to always predict majority class\n",
    "dummy_model = DummyClassifier(strategy = \"most_frequent\")\n",
    "dummy_model.fit(X_train, y_train)\n",
    "\n",
    "# Calculate dummy model accuracy\n",
    "dummy_ypred = dummy_model.predict(X_test)\n",
    "dummy_score = accuracy_score(y_test, dummy_ypred)"
   ]
  },
  {
   "cell_type": "code",
   "execution_count": 20,
   "id": "f6f64c93-2fb3-4093-b6c4-bde21fc68eb2",
   "metadata": {
    "tags": []
   },
   "outputs": [
    {
     "name": "stdout",
     "output_type": "stream",
     "text": [
      "Dummy Accuracy: 0.9174655345567424\n"
     ]
    },
    {
     "data": {
      "image/png": "[encoded data removed]",
      "text/plain": [
       "<Figure size 800x600 with 2 Axes>"
      ]
     },
     "metadata": {},
     "output_type": "display_data"
    },
    {
     "name": "stdout",
     "output_type": "stream",
     "text": [
      "True positives (correctly predicted presence): 10049\n",
      "\n",
      "Model Performance Metrics:\n",
      "Accuracy: 0.917\n",
      "Sensitivity ( True positive rate): 0.917\n",
      "Specificity ( True negative rate:) nan\n",
      "Dummy Confusion Matrix: None\n"
     ]
    },
    {
     "name": "stderr",
     "output_type": "stream",
     "text": [
      "/tmp/ipykernel_1463125/1635722932.py:31: RuntimeWarning: invalid value encountered in scalar divide\n",
      "  specificity = TN / (TN + FP )\n"
     ]
    }
   ],
   "source": [
    "# Print accuracy and confusion matrix results\n",
    "print(f\"Dummy Accuracy: {dummy_score}\")\n",
    "print(f\"Dummy Confusion Matrix: {plot_confusion_matrix(y_test, dummy_ypred)}\")"
   ]
  },
  {
   "cell_type": "markdown",
   "id": "e3445d23",
   "metadata": {},
   "source": [
    "# Step 8: ROCs and AUCs\n",
    "Our two models have similar accuracy, but is that all there is to this story?  Let's dig a little deeper on the comparison of our logistic and dummy classifiers by examining the associated receiver-operator characteristic (ROC) curves. Calculate the area under the curve (AUC) for both models."
   ]
  },
  {
   "cell_type": "code",
   "execution_count": 21,
   "id": "cef8515b",
   "metadata": {
    "tags": []
   },
   "outputs": [
    {
     "name": "stdout",
     "output_type": "stream",
     "text": [
      "Logistic AUC: 0.9267959784665757\n"
     ]
    }
   ],
   "source": [
    "# Logistic classifier AUC\n",
    "# Find y_pred_prob\n",
    "y_pred_prob = model.predict_proba(X_test)[:,1]\n",
    "\n",
    "print(f\"Logistic AUC: {roc_auc_score(y_test, y_pred_prob)}\")"
   ]
  },
  {
   "cell_type": "code",
   "execution_count": 22,
   "id": "5180e8b8",
   "metadata": {
    "tags": []
   },
   "outputs": [
    {
     "name": "stdout",
     "output_type": "stream",
     "text": [
      "Dummy AUC: 0.5\n"
     ]
    }
   ],
   "source": [
    "# Dummy classifier AUC\n",
    "# Find y_pred_prob of dummy\n",
    "dummy_ypred_prob = dummy_model.predict_proba(X_test)[:,1]\n",
    "\n",
    "print(f\"Dummy AUC: {roc_auc_score(y_test, dummy_ypred_prob)}\")"
   ]
  },
  {
   "cell_type": "markdown",
   "id": "4acd252f",
   "metadata": {},
   "source": [
    "# Step 9: Plot dummy and logistic model ROC curves\n",
    "Now using the outputs from `roc_curve()`, plot the ROC curves for both models on the same plot.  Make sure to use appropriate labels in the legend."
   ]
  },
  {
   "cell_type": "code",
   "execution_count": 23,
   "id": "a99d0bb9-f4ea-40a5-b2c4-85b1454fe383",
   "metadata": {
    "tags": []
   },
   "outputs": [],
   "source": [
    "# Set up curves\n",
    "fpr, tpr, _ = roc_curve(y_test, y_pred_prob) # for Logisitic Regression\n",
    "\n",
    "d_fpr, d_tpr, _ = roc_curve(y_test, dummy_ypred_prob) # For Dummy Majority Classifier"
   ]
  },
  {
   "cell_type": "code",
   "execution_count": 24,
   "id": "03a7fe29",
   "metadata": {
    "tags": []
   },
   "outputs": [
    {
     "data": {
      "image/png": "[encoded data removed]",
      "text/plain": [
       "<Figure size 640x480 with 1 Axes>"
      ]
     },
     "metadata": {},
     "output_type": "display_data"
    }
   ],
   "source": [
    "# Set up plot\n",
    "plt.plot(fpr, tpr, color = 'hotpink', lw =2, label = 'ROC curve - Logisitic Regression')\n",
    "plt.plot(d_fpr, d_tpr, color = 'red', lw =2, label = 'ROC curve - Majority')\n",
    "plt.xlabel('False positive rate')\n",
    "plt.ylabel('True positive rate')\n",
    "plt.title('ROC curves of Logistic and Majority Classifier Models')\n",
    "plt.legend()\n",
    "plt.grid(True)\n",
    "\n",
    "plt.show()"
   ]
  },
  {
   "cell_type": "markdown",
   "id": "ec104e80",
   "metadata": {},
   "source": [
    "How do the two models compare on AUC?  What are the implications for evaluating classifiers based on accuracy of their predictions?"
   ]
  },
  {
   "cell_type": "markdown",
   "id": "a4ab1a30",
   "metadata": {},
   "source": [
    "The two models have differing AUCs as seen in Step 8 - where the Logisitic Regression Model and Majority Dummy Models had AUCs of 0.926 and 0.5, respectively. This implies that the Logistic Regression model has a higher probablity of assigning a randomly chosen tree as dead, than as alive. In the dummy model (majority classifier), the AUC of 0.5 assigns a random tree a higher probability of being dead than alive only half the time.\n",
    "\n",
    "Thus the implications of this evaluation, would be that we would ultimately use the model that has a better prediction accuracy - which in this case would be the Logistic Regression model."
   ]
  },
  {
   "cell_type": "markdown",
   "id": "d1767d77",
   "metadata": {},
   "source": [
    "# Step 10: Final interpretation\n",
    "\n",
    "Identifying the most important features in a model can guide decision-making. For instance, in our dataset, highly important features might indicate key factors affecting tree survival after a fire. We will calculate the feature importance by examining the coefficients of our logistic regression model."
   ]
  },
  {
   "cell_type": "code",
   "execution_count": 25,
   "id": "e0a97e03",
   "metadata": {
    "tags": []
   },
   "outputs": [
    {
     "name": "stdout",
     "output_type": "stream",
     "text": [
      "         Feature  Coefficient\n",
      "7        CR_post     2.395274\n",
      "5           HT_m     1.126992\n",
      "0     YrFireName     0.655371\n",
      "2        Species     0.451795\n",
      "4         DBH_cm     0.377314\n",
      "6         CR_pre     0.134226\n",
      "3  Genus_species     0.019848\n",
      "1   Times_burned     0.000000\n"
     ]
    }
   ],
   "source": [
    "# Coefficients and Odds Ratios\n",
    "coefficients = model.coef_[0]\n",
    "\n",
    "# Display feature importance using coefficients and odds ratios\n",
    "importance_df = pd.DataFrame({\n",
    "    'Feature': X.columns,\n",
    "    'Coefficient': coefficients,\n",
    "})\n",
    "\n",
    "importance_df['Coefficient'] = pd.to_numeric(importance_df['Coefficient']).abs()\n",
    "\n",
    "# Print the sorted feature importance\n",
    "print(importance_df.sort_values(by='Coefficient', ascending= False))"
   ]
  },
  {
   "cell_type": "markdown",
   "id": "55d9db5d",
   "metadata": {},
   "source": [
    "Which are the most important features in our model (reference the metadata to help answer this)? Can you think of any implications for forest management or conservation strategy?"
   ]
  },
  {
   "cell_type": "markdown",
   "id": "bd42e56c",
   "metadata": {},
   "source": [
    "The most important features in the model - according to the prior calculations - is a variable named `CR_post`. This was defined in the metadata as the \"Post-fire live crown ratio. Crown length divided by tree height (proportion rounded to nearest 0.01)\" [USDA](https://www.fs.usda.gov/rds/archive/products/RDS-2020-0001/_metadata_RDS-2020-0001.html) This conclusion can inform forest managment policy and conservatino strategy - as t can help to mitigate the spread and impact of forest fires. (Presumably managing the crowns/ drybrush - will decrease the rate at which the fire accelerates through an area. This can reduce the number of trees that die in the immediate aftermath of a forest/wildfire.)"
   ]
  }
 ],
 "metadata": {
  "kernelspec": {
   "display_name": "Anaconda 3 (EDS232)",
   "language": "python",
   "name": "ml-env"
  },
  "language_info": {
   "codemirror_mode": {
    "name": "ipython",
    "version": 3
   },
   "file_extension": ".py",
   "mimetype": "text/x-python",
   "name": "python",
   "nbconvert_exporter": "python",
   "pygments_lexer": "ipython3",
   "version": "3.10.16"
  }
 },
 "nbformat": 4,
 "nbformat_minor": 5
}
