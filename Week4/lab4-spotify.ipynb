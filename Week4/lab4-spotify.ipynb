{
 "cells": [
  {
   "cell_type": "markdown",
   "id": "ad7fbe2b-da60-4059-ae71-e322fecfd0db",
   "metadata": {},
   "source": [
    "# Lab 4: Building a Spotify Song Classifier with KNNs and Decision Trees\n",
    "**Classify by genres**. In this lab, you will build machine learning genre classifiers using a dataset of Spotify tracks. Your goal is to train a model that can distinguish between two selected genres based on various audio features such as danceability, energy, valence, tempo, and more.\n",
    "\n",
    "We'll follow the familiar workflow of data exploration -> preprocessing -> model training -> evaluation"
   ]
  },
  {
   "cell_type": "code",
   "execution_count": 1,
   "id": "cb34875f",
   "metadata": {
    "tags": []
   },
   "outputs": [],
   "source": [
    "import pandas as pd\n",
    "from sklearn.preprocessing import LabelEncoder \n",
    "from sklearn.preprocessing import StandardScaler\n",
    "from sklearn.model_selection import train_test_split\n",
    "import matplotlib.pyplot as plt\n",
    "import seaborn as sns\n",
    "from sklearn.neighbors import KNeighborsClassifier\n",
    "from sklearn.tree import DecisionTreeClassifier\n",
    "from sklearn.metrics import accuracy_score"
   ]
  },
  {
   "cell_type": "markdown",
   "id": "4aaac8c4-fbb4-40f9-8a59-e800395c6c65",
   "metadata": {},
   "source": [
    "### Step 1: The data\n",
    "We'll focus on two genres: Blues and Jazz (what’s the difference, anyway??).\n",
    "\n",
    "Both genres have rich musical histories, but they differ in structure:\n",
    "\n",
    "- Blues tends to have simpler chord progressions and a strong emotional expression.\n",
    "- Jazz often involves complex improvisation and more varied rhythms.\n",
    "\n",
    "But can a machine really tell them apart just by looking at numerical audio features? That’s what we’ll find out!\n",
    "\n",
    "In this step, you will:\n",
    "- Load the dataset\n",
    "- Extract only blues and jazz for classification"
   ]
  },
  {
   "cell_type": "code",
   "execution_count": 2,
   "id": "50d60953-b652-4475-907f-28a78f516dcb",
   "metadata": {
    "tags": []
   },
   "outputs": [],
   "source": [
    "spotify_data = pd.read_csv('/courses/EDS232/Data/spotify_dat.csv')"
   ]
  },
  {
   "cell_type": "code",
   "execution_count": 3,
   "id": "056548c0-933e-4841-ba69-f8c7438c49ff",
   "metadata": {
    "tags": []
   },
   "outputs": [
    {
     "name": "stdout",
     "output_type": "stream",
     "text": [
      "The data types in spotify_data are:\n",
      "id                   object\n",
      "name                 object\n",
      "album                object\n",
      "album_id             object\n",
      "artists              object\n",
      "artist_ids           object\n",
      "track_number          int64\n",
      "disc_number           int64\n",
      "explicit               bool\n",
      "danceability        float64\n",
      "energy              float64\n",
      "key                   int64\n",
      "loudness            float64\n",
      "mode                  int64\n",
      "speechiness         float64\n",
      "acousticness        float64\n",
      "instrumentalness    float64\n",
      "liveness            float64\n",
      "valence             float64\n",
      "tempo               float64\n",
      "duration_ms           int64\n",
      "time_signature      float64\n",
      "year                  int64\n",
      "release_date         object\n",
      "genres               object\n",
      "dtype: object\n"
     ]
    }
   ],
   "source": [
    "# Print the data types in spotify_data\n",
    "print(f'The data types in spotify_data are:\\n{spotify_data.dtypes}')"
   ]
  },
  {
   "cell_type": "code",
   "execution_count": 4,
   "id": "30348298-dcfd-4880-8d21-807871af5632",
   "metadata": {
    "tags": []
   },
   "outputs": [
    {
     "data": {
      "text/html": [
       "<div>\n",
       "<style scoped>\n",
       "    .dataframe tbody tr th:only-of-type {\n",
       "        vertical-align: middle;\n",
       "    }\n",
       "\n",
       "    .dataframe tbody tr th {\n",
       "        vertical-align: top;\n",
       "    }\n",
       "\n",
       "    .dataframe thead th {\n",
       "        text-align: right;\n",
       "    }\n",
       "</style>\n",
       "<table border=\"1\" class=\"dataframe\">\n",
       "  <thead>\n",
       "    <tr style=\"text-align: right;\">\n",
       "      <th></th>\n",
       "      <th>id</th>\n",
       "      <th>name</th>\n",
       "      <th>album</th>\n",
       "      <th>album_id</th>\n",
       "      <th>artists</th>\n",
       "      <th>artist_ids</th>\n",
       "      <th>track_number</th>\n",
       "      <th>disc_number</th>\n",
       "      <th>explicit</th>\n",
       "      <th>danceability</th>\n",
       "      <th>...</th>\n",
       "      <th>acousticness</th>\n",
       "      <th>instrumentalness</th>\n",
       "      <th>liveness</th>\n",
       "      <th>valence</th>\n",
       "      <th>tempo</th>\n",
       "      <th>duration_ms</th>\n",
       "      <th>time_signature</th>\n",
       "      <th>year</th>\n",
       "      <th>release_date</th>\n",
       "      <th>genres</th>\n",
       "    </tr>\n",
       "  </thead>\n",
       "  <tbody>\n",
       "    <tr>\n",
       "      <th>0</th>\n",
       "      <td>7lmeHLHBe4nmXzuXc0HDjk</td>\n",
       "      <td>Testify</td>\n",
       "      <td>The Battle Of Los Angeles</td>\n",
       "      <td>2eia0myWFgoHuttJytCxgX</td>\n",
       "      <td>['Rage Against The Machine']</td>\n",
       "      <td>['2d0hyoQ5ynDBnkvAbJKORj']</td>\n",
       "      <td>1</td>\n",
       "      <td>1</td>\n",
       "      <td>False</td>\n",
       "      <td>0.470</td>\n",
       "      <td>...</td>\n",
       "      <td>0.0261</td>\n",
       "      <td>0.000011</td>\n",
       "      <td>0.356</td>\n",
       "      <td>0.503</td>\n",
       "      <td>117.906</td>\n",
       "      <td>210133</td>\n",
       "      <td>4.0</td>\n",
       "      <td>1999</td>\n",
       "      <td>1999-11-02</td>\n",
       "      <td>rap metal</td>\n",
       "    </tr>\n",
       "    <tr>\n",
       "      <th>1</th>\n",
       "      <td>1wsRitfRRtWyEapl0q22o8</td>\n",
       "      <td>Guerrilla Radio</td>\n",
       "      <td>The Battle Of Los Angeles</td>\n",
       "      <td>2eia0myWFgoHuttJytCxgX</td>\n",
       "      <td>['Rage Against The Machine']</td>\n",
       "      <td>['2d0hyoQ5ynDBnkvAbJKORj']</td>\n",
       "      <td>2</td>\n",
       "      <td>1</td>\n",
       "      <td>True</td>\n",
       "      <td>0.599</td>\n",
       "      <td>...</td>\n",
       "      <td>0.0129</td>\n",
       "      <td>0.000071</td>\n",
       "      <td>0.155</td>\n",
       "      <td>0.489</td>\n",
       "      <td>103.680</td>\n",
       "      <td>206200</td>\n",
       "      <td>4.0</td>\n",
       "      <td>1999</td>\n",
       "      <td>1999-11-02</td>\n",
       "      <td>rap metal</td>\n",
       "    </tr>\n",
       "    <tr>\n",
       "      <th>2</th>\n",
       "      <td>1hR0fIFK2qRG3f3RF70pb7</td>\n",
       "      <td>Calm Like a Bomb</td>\n",
       "      <td>The Battle Of Los Angeles</td>\n",
       "      <td>2eia0myWFgoHuttJytCxgX</td>\n",
       "      <td>['Rage Against The Machine']</td>\n",
       "      <td>['2d0hyoQ5ynDBnkvAbJKORj']</td>\n",
       "      <td>3</td>\n",
       "      <td>1</td>\n",
       "      <td>False</td>\n",
       "      <td>0.315</td>\n",
       "      <td>...</td>\n",
       "      <td>0.0234</td>\n",
       "      <td>0.000002</td>\n",
       "      <td>0.122</td>\n",
       "      <td>0.370</td>\n",
       "      <td>149.749</td>\n",
       "      <td>298893</td>\n",
       "      <td>4.0</td>\n",
       "      <td>1999</td>\n",
       "      <td>1999-11-02</td>\n",
       "      <td>rap metal</td>\n",
       "    </tr>\n",
       "  </tbody>\n",
       "</table>\n",
       "<p>3 rows × 25 columns</p>\n",
       "</div>"
      ],
      "text/plain": [
       "                       id              name                      album  \\\n",
       "0  7lmeHLHBe4nmXzuXc0HDjk           Testify  The Battle Of Los Angeles   \n",
       "1  1wsRitfRRtWyEapl0q22o8   Guerrilla Radio  The Battle Of Los Angeles   \n",
       "2  1hR0fIFK2qRG3f3RF70pb7  Calm Like a Bomb  The Battle Of Los Angeles   \n",
       "\n",
       "                 album_id                       artists  \\\n",
       "0  2eia0myWFgoHuttJytCxgX  ['Rage Against The Machine']   \n",
       "1  2eia0myWFgoHuttJytCxgX  ['Rage Against The Machine']   \n",
       "2  2eia0myWFgoHuttJytCxgX  ['Rage Against The Machine']   \n",
       "\n",
       "                   artist_ids  track_number  disc_number  explicit  \\\n",
       "0  ['2d0hyoQ5ynDBnkvAbJKORj']             1            1     False   \n",
       "1  ['2d0hyoQ5ynDBnkvAbJKORj']             2            1      True   \n",
       "2  ['2d0hyoQ5ynDBnkvAbJKORj']             3            1     False   \n",
       "\n",
       "   danceability  ...  acousticness  instrumentalness  liveness  valence  \\\n",
       "0         0.470  ...        0.0261          0.000011     0.356    0.503   \n",
       "1         0.599  ...        0.0129          0.000071     0.155    0.489   \n",
       "2         0.315  ...        0.0234          0.000002     0.122    0.370   \n",
       "\n",
       "     tempo  duration_ms  time_signature  year  release_date     genres  \n",
       "0  117.906       210133             4.0  1999    1999-11-02  rap metal  \n",
       "1  103.680       206200             4.0  1999    1999-11-02  rap metal  \n",
       "2  149.749       298893             4.0  1999    1999-11-02  rap metal  \n",
       "\n",
       "[3 rows x 25 columns]"
      ]
     },
     "execution_count": 4,
     "metadata": {},
     "output_type": "execute_result"
    }
   ],
   "source": [
    "# Explore data\n",
    "spotify_data.head(3)"
   ]
  },
  {
   "cell_type": "code",
   "execution_count": 5,
   "id": "ea055009-bde2-4cbb-bbce-a46c816dcc54",
   "metadata": {},
   "outputs": [],
   "source": [
    "# Explore genre labels\n",
    "#spotify_data['genres'].unique()"
   ]
  },
  {
   "cell_type": "code",
   "execution_count": 6,
   "id": "2d4050e3-55f8-4af8-9971-a93cc9a8b26a",
   "metadata": {
    "tags": []
   },
   "outputs": [],
   "source": [
    "# Filter down to two genres\n",
    "blues_data = spotify_data[spotify_data['genres'] == 'jazz']\n",
    "jazz_data =  spotify_data[spotify_data['genres'] == 'blues']\n",
    "\n",
    "# Combine both genres into one dataset\n",
    "combined_data =  pd.concat([blues_data, jazz_data])"
   ]
  },
  {
   "cell_type": "code",
   "execution_count": 7,
   "id": "d914df63-642f-4b09-8e10-e9720334a8f2",
   "metadata": {
    "tags": []
   },
   "outputs": [
    {
     "data": {
      "text/html": [
       "<div>\n",
       "<style scoped>\n",
       "    .dataframe tbody tr th:only-of-type {\n",
       "        vertical-align: middle;\n",
       "    }\n",
       "\n",
       "    .dataframe tbody tr th {\n",
       "        vertical-align: top;\n",
       "    }\n",
       "\n",
       "    .dataframe thead th {\n",
       "        text-align: right;\n",
       "    }\n",
       "</style>\n",
       "<table border=\"1\" class=\"dataframe\">\n",
       "  <thead>\n",
       "    <tr style=\"text-align: right;\">\n",
       "      <th></th>\n",
       "      <th>id</th>\n",
       "      <th>name</th>\n",
       "      <th>album</th>\n",
       "      <th>album_id</th>\n",
       "      <th>artists</th>\n",
       "      <th>artist_ids</th>\n",
       "      <th>track_number</th>\n",
       "      <th>disc_number</th>\n",
       "      <th>explicit</th>\n",
       "      <th>danceability</th>\n",
       "      <th>...</th>\n",
       "      <th>acousticness</th>\n",
       "      <th>instrumentalness</th>\n",
       "      <th>liveness</th>\n",
       "      <th>valence</th>\n",
       "      <th>tempo</th>\n",
       "      <th>duration_ms</th>\n",
       "      <th>time_signature</th>\n",
       "      <th>year</th>\n",
       "      <th>release_date</th>\n",
       "      <th>genres</th>\n",
       "    </tr>\n",
       "  </thead>\n",
       "  <tbody>\n",
       "    <tr>\n",
       "      <th>9370</th>\n",
       "      <td>2gUvAgzcah09iRarSf62fN</td>\n",
       "      <td>Everything I Love</td>\n",
       "      <td>Blue Waltz</td>\n",
       "      <td>4ieAxUV4WFZj9imsPVehYa</td>\n",
       "      <td>['Enrico Pieranunzi', 'Thomas Fonnesbæk']</td>\n",
       "      <td>['5vACdMa2kY7jHnlJwqYRKP', '2GWMZZQNuU0VZra0su...</td>\n",
       "      <td>1</td>\n",
       "      <td>1</td>\n",
       "      <td>False</td>\n",
       "      <td>0.461</td>\n",
       "      <td>...</td>\n",
       "      <td>0.954</td>\n",
       "      <td>0.861</td>\n",
       "      <td>0.984</td>\n",
       "      <td>0.249</td>\n",
       "      <td>111.621</td>\n",
       "      <td>400576</td>\n",
       "      <td>4.0</td>\n",
       "      <td>2018</td>\n",
       "      <td>2018-07-13</td>\n",
       "      <td>jazz</td>\n",
       "    </tr>\n",
       "    <tr>\n",
       "      <th>9371</th>\n",
       "      <td>5BWzVgoB7GF0GoPleZwlg0</td>\n",
       "      <td>Blue Waltz</td>\n",
       "      <td>Blue Waltz</td>\n",
       "      <td>4ieAxUV4WFZj9imsPVehYa</td>\n",
       "      <td>['Enrico Pieranunzi', 'Thomas Fonnesbæk']</td>\n",
       "      <td>['5vACdMa2kY7jHnlJwqYRKP', '2GWMZZQNuU0VZra0su...</td>\n",
       "      <td>2</td>\n",
       "      <td>1</td>\n",
       "      <td>False</td>\n",
       "      <td>0.425</td>\n",
       "      <td>...</td>\n",
       "      <td>0.941</td>\n",
       "      <td>0.899</td>\n",
       "      <td>0.717</td>\n",
       "      <td>0.304</td>\n",
       "      <td>105.492</td>\n",
       "      <td>533556</td>\n",
       "      <td>4.0</td>\n",
       "      <td>2018</td>\n",
       "      <td>2018-07-13</td>\n",
       "      <td>jazz</td>\n",
       "    </tr>\n",
       "    <tr>\n",
       "      <th>9372</th>\n",
       "      <td>16EJtLHY51K46GULZjrSUc</td>\n",
       "      <td>Come Rose Dai Muri</td>\n",
       "      <td>Blue Waltz</td>\n",
       "      <td>4ieAxUV4WFZj9imsPVehYa</td>\n",
       "      <td>['Enrico Pieranunzi', 'Thomas Fonnesbæk']</td>\n",
       "      <td>['5vACdMa2kY7jHnlJwqYRKP', '2GWMZZQNuU0VZra0su...</td>\n",
       "      <td>3</td>\n",
       "      <td>1</td>\n",
       "      <td>False</td>\n",
       "      <td>0.391</td>\n",
       "      <td>...</td>\n",
       "      <td>0.907</td>\n",
       "      <td>0.902</td>\n",
       "      <td>0.698</td>\n",
       "      <td>0.267</td>\n",
       "      <td>109.899</td>\n",
       "      <td>422782</td>\n",
       "      <td>4.0</td>\n",
       "      <td>2018</td>\n",
       "      <td>2018-07-13</td>\n",
       "      <td>jazz</td>\n",
       "    </tr>\n",
       "  </tbody>\n",
       "</table>\n",
       "<p>3 rows × 25 columns</p>\n",
       "</div>"
      ],
      "text/plain": [
       "                          id                name       album  \\\n",
       "9370  2gUvAgzcah09iRarSf62fN   Everything I Love  Blue Waltz   \n",
       "9371  5BWzVgoB7GF0GoPleZwlg0          Blue Waltz  Blue Waltz   \n",
       "9372  16EJtLHY51K46GULZjrSUc  Come Rose Dai Muri  Blue Waltz   \n",
       "\n",
       "                    album_id                                    artists  \\\n",
       "9370  4ieAxUV4WFZj9imsPVehYa  ['Enrico Pieranunzi', 'Thomas Fonnesbæk']   \n",
       "9371  4ieAxUV4WFZj9imsPVehYa  ['Enrico Pieranunzi', 'Thomas Fonnesbæk']   \n",
       "9372  4ieAxUV4WFZj9imsPVehYa  ['Enrico Pieranunzi', 'Thomas Fonnesbæk']   \n",
       "\n",
       "                                             artist_ids  track_number  \\\n",
       "9370  ['5vACdMa2kY7jHnlJwqYRKP', '2GWMZZQNuU0VZra0su...             1   \n",
       "9371  ['5vACdMa2kY7jHnlJwqYRKP', '2GWMZZQNuU0VZra0su...             2   \n",
       "9372  ['5vACdMa2kY7jHnlJwqYRKP', '2GWMZZQNuU0VZra0su...             3   \n",
       "\n",
       "      disc_number  explicit  danceability  ...  acousticness  \\\n",
       "9370            1     False         0.461  ...         0.954   \n",
       "9371            1     False         0.425  ...         0.941   \n",
       "9372            1     False         0.391  ...         0.907   \n",
       "\n",
       "      instrumentalness  liveness  valence    tempo  duration_ms  \\\n",
       "9370             0.861     0.984    0.249  111.621       400576   \n",
       "9371             0.899     0.717    0.304  105.492       533556   \n",
       "9372             0.902     0.698    0.267  109.899       422782   \n",
       "\n",
       "      time_signature  year  release_date  genres  \n",
       "9370             4.0  2018    2018-07-13    jazz  \n",
       "9371             4.0  2018    2018-07-13    jazz  \n",
       "9372             4.0  2018    2018-07-13    jazz  \n",
       "\n",
       "[3 rows x 25 columns]"
      ]
     },
     "execution_count": 7,
     "metadata": {},
     "output_type": "execute_result"
    }
   ],
   "source": [
    "# Examine combined_data\n",
    "combined_data.head(3)"
   ]
  },
  {
   "cell_type": "code",
   "execution_count": 8,
   "id": "c383600f-3e0c-4b12-a0c3-13493735dcbc",
   "metadata": {
    "tags": []
   },
   "outputs": [],
   "source": [
    "# Rename 'genres' column to 'genre' for clarity\n",
    "combined_data = combined_data.rename(columns={'genres': 'genre'})"
   ]
  },
  {
   "cell_type": "code",
   "execution_count": 9,
   "id": "5dbafcb3-8266-4c00-a1f1-8013292dff61",
   "metadata": {
    "tags": []
   },
   "outputs": [
    {
     "data": {
      "text/html": [
       "<div>\n",
       "<style scoped>\n",
       "    .dataframe tbody tr th:only-of-type {\n",
       "        vertical-align: middle;\n",
       "    }\n",
       "\n",
       "    .dataframe tbody tr th {\n",
       "        vertical-align: top;\n",
       "    }\n",
       "\n",
       "    .dataframe thead th {\n",
       "        text-align: right;\n",
       "    }\n",
       "</style>\n",
       "<table border=\"1\" class=\"dataframe\">\n",
       "  <thead>\n",
       "    <tr style=\"text-align: right;\">\n",
       "      <th></th>\n",
       "      <th>id</th>\n",
       "      <th>name</th>\n",
       "      <th>album</th>\n",
       "      <th>album_id</th>\n",
       "      <th>artists</th>\n",
       "      <th>artist_ids</th>\n",
       "      <th>track_number</th>\n",
       "      <th>disc_number</th>\n",
       "      <th>explicit</th>\n",
       "      <th>danceability</th>\n",
       "      <th>...</th>\n",
       "      <th>acousticness</th>\n",
       "      <th>instrumentalness</th>\n",
       "      <th>liveness</th>\n",
       "      <th>valence</th>\n",
       "      <th>tempo</th>\n",
       "      <th>duration_ms</th>\n",
       "      <th>time_signature</th>\n",
       "      <th>year</th>\n",
       "      <th>release_date</th>\n",
       "      <th>genre</th>\n",
       "    </tr>\n",
       "  </thead>\n",
       "  <tbody>\n",
       "    <tr>\n",
       "      <th>9370</th>\n",
       "      <td>2gUvAgzcah09iRarSf62fN</td>\n",
       "      <td>Everything I Love</td>\n",
       "      <td>Blue Waltz</td>\n",
       "      <td>4ieAxUV4WFZj9imsPVehYa</td>\n",
       "      <td>['Enrico Pieranunzi', 'Thomas Fonnesbæk']</td>\n",
       "      <td>['5vACdMa2kY7jHnlJwqYRKP', '2GWMZZQNuU0VZra0su...</td>\n",
       "      <td>1</td>\n",
       "      <td>1</td>\n",
       "      <td>False</td>\n",
       "      <td>0.461</td>\n",
       "      <td>...</td>\n",
       "      <td>0.954</td>\n",
       "      <td>0.861</td>\n",
       "      <td>0.984</td>\n",
       "      <td>0.249</td>\n",
       "      <td>111.621</td>\n",
       "      <td>400576</td>\n",
       "      <td>4.0</td>\n",
       "      <td>2018</td>\n",
       "      <td>2018-07-13</td>\n",
       "      <td>jazz</td>\n",
       "    </tr>\n",
       "  </tbody>\n",
       "</table>\n",
       "<p>1 rows × 25 columns</p>\n",
       "</div>"
      ],
      "text/plain": [
       "                          id               name       album  \\\n",
       "9370  2gUvAgzcah09iRarSf62fN  Everything I Love  Blue Waltz   \n",
       "\n",
       "                    album_id                                    artists  \\\n",
       "9370  4ieAxUV4WFZj9imsPVehYa  ['Enrico Pieranunzi', 'Thomas Fonnesbæk']   \n",
       "\n",
       "                                             artist_ids  track_number  \\\n",
       "9370  ['5vACdMa2kY7jHnlJwqYRKP', '2GWMZZQNuU0VZra0su...             1   \n",
       "\n",
       "      disc_number  explicit  danceability  ...  acousticness  \\\n",
       "9370            1     False         0.461  ...         0.954   \n",
       "\n",
       "      instrumentalness  liveness  valence    tempo  duration_ms  \\\n",
       "9370             0.861     0.984    0.249  111.621       400576   \n",
       "\n",
       "      time_signature  year  release_date  genre  \n",
       "9370             4.0  2018    2018-07-13   jazz  \n",
       "\n",
       "[1 rows x 25 columns]"
      ]
     },
     "execution_count": 9,
     "metadata": {},
     "output_type": "execute_result"
    }
   ],
   "source": [
    "# Double Check\n",
    "combined_data.head(1)"
   ]
  },
  {
   "cell_type": "markdown",
   "id": "70e8340d-f51a-4659-b3eb-c0549575552a",
   "metadata": {},
   "source": [
    "## Step 2: Data Exploration\n",
    "Now that we have Blues and Jazz as our two genres, it's time to explore the data and look for patterns in the audio features.\n",
    "\n",
    "Let's investigate:\n",
    "- Which features are available?\n",
    "- How strongly these features correlate with each other.\n",
    "- How different genres distribute across  sample features: danceability \n",
    "\n",
    "In this step, we will:\n",
    "- Filter out non-numeric columns before the plotting\n",
    "- Visualize feature correlations using a heatmap.\n",
    "- Examine key feature distributions with histograms to see if genres behave differently.\n"
   ]
  },
  {
   "cell_type": "code",
   "execution_count": 10,
   "id": "f3862fbb-b281-461f-b908-36ffec6e7900",
   "metadata": {
    "tags": []
   },
   "outputs": [
    {
     "data": {
      "text/html": [
       "<div>\n",
       "<style scoped>\n",
       "    .dataframe tbody tr th:only-of-type {\n",
       "        vertical-align: middle;\n",
       "    }\n",
       "\n",
       "    .dataframe tbody tr th {\n",
       "        vertical-align: top;\n",
       "    }\n",
       "\n",
       "    .dataframe thead th {\n",
       "        text-align: right;\n",
       "    }\n",
       "</style>\n",
       "<table border=\"1\" class=\"dataframe\">\n",
       "  <thead>\n",
       "    <tr style=\"text-align: right;\">\n",
       "      <th></th>\n",
       "      <th>id</th>\n",
       "      <th>name</th>\n",
       "      <th>album</th>\n",
       "      <th>album_id</th>\n",
       "      <th>artists</th>\n",
       "      <th>artist_ids</th>\n",
       "      <th>track_number</th>\n",
       "      <th>disc_number</th>\n",
       "      <th>explicit</th>\n",
       "      <th>danceability</th>\n",
       "      <th>energy</th>\n",
       "      <th>key</th>\n",
       "      <th>loudness</th>\n",
       "      <th>mode</th>\n",
       "      <th>speechiness</th>\n",
       "      <th>acousticness</th>\n",
       "      <th>instrumentalness</th>\n",
       "      <th>liveness</th>\n",
       "      <th>valence</th>\n",
       "      <th>tempo</th>\n",
       "      <th>duration_ms</th>\n",
       "      <th>time_signature</th>\n",
       "      <th>year</th>\n",
       "      <th>release_date</th>\n",
       "      <th>genre</th>\n",
       "    </tr>\n",
       "  </thead>\n",
       "  <tbody>\n",
       "    <tr>\n",
       "      <th>9370</th>\n",
       "      <td>2gUvAgzcah09iRarSf62fN</td>\n",
       "      <td>Everything I Love</td>\n",
       "      <td>Blue Waltz</td>\n",
       "      <td>4ieAxUV4WFZj9imsPVehYa</td>\n",
       "      <td>['Enrico Pieranunzi', 'Thomas Fonnesbæk']</td>\n",
       "      <td>['5vACdMa2kY7jHnlJwqYRKP', '2GWMZZQNuU0VZra0su...</td>\n",
       "      <td>1</td>\n",
       "      <td>1</td>\n",
       "      <td>False</td>\n",
       "      <td>0.461</td>\n",
       "      <td>0.331</td>\n",
       "      <td>8</td>\n",
       "      <td>-18.589</td>\n",
       "      <td>1</td>\n",
       "      <td>0.0415</td>\n",
       "      <td>0.954</td>\n",
       "      <td>0.861</td>\n",
       "      <td>0.984</td>\n",
       "      <td>0.249</td>\n",
       "      <td>111.621</td>\n",
       "      <td>400576</td>\n",
       "      <td>4.0</td>\n",
       "      <td>2018</td>\n",
       "      <td>2018-07-13</td>\n",
       "      <td>jazz</td>\n",
       "    </tr>\n",
       "  </tbody>\n",
       "</table>\n",
       "</div>"
      ],
      "text/plain": [
       "                          id               name       album  \\\n",
       "9370  2gUvAgzcah09iRarSf62fN  Everything I Love  Blue Waltz   \n",
       "\n",
       "                    album_id                                    artists  \\\n",
       "9370  4ieAxUV4WFZj9imsPVehYa  ['Enrico Pieranunzi', 'Thomas Fonnesbæk']   \n",
       "\n",
       "                                             artist_ids  track_number  \\\n",
       "9370  ['5vACdMa2kY7jHnlJwqYRKP', '2GWMZZQNuU0VZra0su...             1   \n",
       "\n",
       "      disc_number  explicit  danceability  energy  key  loudness  mode  \\\n",
       "9370            1     False         0.461   0.331    8   -18.589     1   \n",
       "\n",
       "      speechiness  acousticness  instrumentalness  liveness  valence    tempo  \\\n",
       "9370       0.0415         0.954             0.861     0.984    0.249  111.621   \n",
       "\n",
       "      duration_ms  time_signature  year release_date genre  \n",
       "9370       400576             4.0  2018   2018-07-13  jazz  "
      ]
     },
     "execution_count": 10,
     "metadata": {},
     "output_type": "execute_result"
    }
   ],
   "source": [
    "# See all column names\n",
    "pd.set_option('display.max_columns', None)\n",
    "\n",
    "combined_data.head(1)"
   ]
  },
  {
   "cell_type": "code",
   "execution_count": 11,
   "id": "6dd492e5-9a8a-4dff-8e6d-67a709013a5b",
   "metadata": {
    "tags": []
   },
   "outputs": [
    {
     "data": {
      "text/plain": [
       "id                   object\n",
       "name                 object\n",
       "album                object\n",
       "album_id             object\n",
       "artists              object\n",
       "artist_ids           object\n",
       "track_number          int64\n",
       "disc_number           int64\n",
       "explicit               bool\n",
       "danceability        float64\n",
       "energy              float64\n",
       "key                   int64\n",
       "loudness            float64\n",
       "mode                  int64\n",
       "speechiness         float64\n",
       "acousticness        float64\n",
       "instrumentalness    float64\n",
       "liveness            float64\n",
       "valence             float64\n",
       "tempo               float64\n",
       "duration_ms           int64\n",
       "time_signature      float64\n",
       "year                  int64\n",
       "release_date         object\n",
       "genre                object\n",
       "dtype: object"
      ]
     },
     "execution_count": 11,
     "metadata": {},
     "output_type": "execute_result"
    }
   ],
   "source": [
    "# List all non-numerica columns\n",
    "combined_data.dtypes"
   ]
  },
  {
   "cell_type": "markdown",
   "id": "94e5c28f-a057-40f6-99d6-8c4825d13b3b",
   "metadata": {},
   "source": [
    "The numeric columns are: track_number, disc_number, danceability, energy, key, loudness, mode, speechiness, acousticness, instrumentalness, liveness, valence, tempo, duration_ms, time_signature, year, release_date. Keep - genre."
   ]
  },
  {
   "cell_type": "code",
   "execution_count": 22,
   "id": "d31b0d41-71da-43be-a017-17f4b81ba303",
   "metadata": {},
   "outputs": [],
   "source": [
    "# Exclude non-numeric columns but keep 'genre' for grouping\n",
    "#numeric_features = combined_data[['track_number', 'disc_number', 'danceability', \n",
    " #                                 'energy', 'key', 'loudness', 'mode', 'speechiness', \n",
    "  #                                'acousticness', 'instrumentalness', 'liveness', \n",
    "   #                               'valence', 'tempo', 'duration_ms', 'time_signature', \n",
    "    #                              'year', 'genre']].copy()\n",
    "\n",
    "numeric_features = combined_data.select_dtypes(include=['number']).copy()numeric)_fatures = combined_data.select_dtypes(includes = ['numbers']) # Mich\n",
    "\n",
    "label_encoder = LabelEncoder() \n",
    "\n",
    "# Keep genre\n",
    "numeric_features.loc[:, 'genre'] = combined_data['genre']\n",
    "\n",
    "#numeric_features.loc[:, 'genre'] = label_encoder.fit_transform(numeric_features['genre']) # Mine"
   ]
  },
  {
   "cell_type": "code",
   "execution_count": 24,
   "id": "25dc11d7-62a4-4442-9e05-ae4308548d27",
   "metadata": {},
   "outputs": [
    {
     "data": {
      "image/png": "[encoded data removed]",
      "text/plain": [
       "<Figure size 640x480 with 2 Axes>"
      ]
     },
     "metadata": {},
     "output_type": "display_data"
    }
   ],
   "source": [
    "# Correlation heatmap\n",
    "# Ensure all columns are numeric\n",
    "numeric_features = numeric_features.apply(pd.to_numeric, errors='coerce')\n",
    "\n",
    "# Calculate correlation matrix\n",
    "corr_matrix = numeric_features.corr()\n",
    "\n",
    "# Create the heatmap of the correlation matrix\n",
    "sns.heatmap(corr_matrix, annot=False, cmap='coolwarm')\n",
    "plt.show()"
   ]
  },
  {
   "cell_type": "code",
   "execution_count": 14,
   "id": "2de71db2-df73-4045-a14d-c29b889f4ddb",
   "metadata": {},
   "outputs": [],
   "source": [
    "# Histogram of danceability\n",
    "\n",
    "# Intialize plot\n",
    "# Create a figure and axes\n",
    "#fig, ax = plt.subplots()\n",
    "\n",
    "#numeric_features.hist(by='danceability', figsize=[12, 8]) \n",
    "\n",
    "#plt.show() "
   ]
  },
  {
   "cell_type": "markdown",
   "id": "56f79f22-1036-4ae9-90f8-73ad0f6169b0",
   "metadata": {},
   "source": [
    "### Step 3: Check for class imbalance\n",
    "An unequal distribution between the target classes can cause issues for our classifiers, so we'll need to check for that. A commonly used guideline for class imbalance is:\n",
    "\n",
    "- Slight Imbalance (Less than 1.5:1) → Generally okay; no need for balancing.\n",
    "- Moderate Imbalance (Between 1.5:1 and 3:1) → Might cause some bias; balancing can help.\n",
    "- Severe Imbalance (More than 3:1) → Strongly affects model performance; balancing is usually necessary."
   ]
  },
  {
   "cell_type": "code",
   "execution_count": 15,
   "id": "1470168c-bd6c-412a-9549-47ff191e8644",
   "metadata": {},
   "outputs": [
    {
     "name": "stdout",
     "output_type": "stream",
     "text": [
      "Class counts: Series([], Name: count, dtype: int64)\n",
      "\n",
      " Class ratio: nan\n"
     ]
    }
   ],
   "source": [
    "# Print counts of each genre\n",
    "class_counts = numeric_features['genre'].value_counts()\n",
    "\n",
    "# Calculate ratio of majority to minority class\n",
    "majority_class = class_counts.max()\n",
    "minority_class = class_counts.min()\n",
    "class_ratio = majority_class / minority_class\n",
    "\n",
    "# Print class distribution and ratio\n",
    "print(f\"Class counts: {class_counts}\")\n",
    "print(f\"\\n Class ratio: {class_ratio:.3f}\")"
   ]
  },
  {
   "cell_type": "markdown",
   "id": "a20e289d",
   "metadata": {},
   "source": [
    "Given this result, should we be worried about the imbalance?"
   ]
  },
  {
   "cell_type": "markdown",
   "id": "8d3583ec",
   "metadata": {},
   "source": [
    "*your answer here*"
   ]
  },
  {
   "cell_type": "markdown",
   "id": "8a5d0f97",
   "metadata": {},
   "source": [
    "### Step 4: Preprocessing\n",
    "We need to ensure all the variables we use are numerical so the models can process them. First we'll drop all the variables that are not numeric or the target. Then we'll use a sklearn utility, `LabelEncoder()` to encode our categorical target variable into numerical values. Print the first five values of your encoded labels."
   ]
  },
  {
   "cell_type": "code",
   "execution_count": 16,
   "id": "6ce674f3",
   "metadata": {
    "tags": []
   },
   "outputs": [
    {
     "name": "stdout",
     "output_type": "stream",
     "text": [
      "First 5 encoded label values: [0 0 0 0 0]\n"
     ]
    }
   ],
   "source": [
    "# Define the features (drop columns that are not numeric or target)\n",
    "X = numeric_features[['track_number', 'disc_number', 'danceability', \n",
    "                                  'energy', 'key', 'loudness', 'mode', 'speechiness', \n",
    "                                  'acousticness', 'instrumentalness', 'liveness', \n",
    "                                  'valence', 'tempo', 'duration_ms', 'time_signature', \n",
    "                                  'year']]\n",
    "\n",
    "\n",
    "# Set the target variable as 'genre'\n",
    "y =  numeric_features['genre']\n",
    "\n",
    "# Encode the target variable ('label') using label encoding\n",
    "label_encoder = LabelEncoder()\n",
    "y_encoded = label_encoder.fit_transform(y)\n",
    "\n",
    "# Print first five values of encoded labels\n",
    "print(f\"First 5 encoded label values: {y_encoded[1:6]}\")"
   ]
  },
  {
   "cell_type": "markdown",
   "id": "fee85305",
   "metadata": {},
   "source": [
    "Good, now we'll do our data splitting and scaling.  Let's go with an 80/20 split this time."
   ]
  },
  {
   "cell_type": "code",
   "execution_count": 17,
   "id": "2a0cf1df",
   "metadata": {},
   "outputs": [],
   "source": [
    "# Split data into 80% train and 20% test\n",
    "X_train, X_test, y_train, y_test = train_test_split(X,y_encoded, test_size = 0.2)\n",
    "\n",
    "# Initialize the scaler\n",
    "scaler = StandardScaler() \n",
    "\n",
    "# Fit and transform only the training set\n",
    "X_train_scaled = scaler.fit_transform(X_train)\n",
    "\n",
    "# Use the same scaler to transform the test set\n",
    "X_test_scaled = scaler.transform(X_test)"
   ]
  },
  {
   "cell_type": "markdown",
   "id": "d74c0a3c-c1b9-438a-8e44-5654e6406f6d",
   "metadata": {},
   "source": [
    "### Step 5: Train the models\n",
    "OK, now it's time to build our models and assess the training accuracy. We'll use the default of k = 5 for the KNN model."
   ]
  },
  {
   "cell_type": "code",
   "execution_count": 18,
   "id": "3f88e4c7",
   "metadata": {},
   "outputs": [
    {
     "name": "stdout",
     "output_type": "stream",
     "text": [
      "Accuracy score of train knn model 1.0\n",
      "\n",
      "Accuracy score of train dt model 1.0\n"
     ]
    }
   ],
   "source": [
    "# Initialize models\n",
    "knn = KNeighborsClassifier()\n",
    "dt = DecisionTreeClassifier()\n",
    "\n",
    "# Train (fit) both models\n",
    "knn.fit(X_train_scaled, y_train)\n",
    "dt.fit(X_train_scaled, y_train)\n",
    "\n",
    "# Predictions on training data\n",
    "knn_y_pred_scaled = knn.predict(X_train_scaled)\n",
    "dt_y_pred_scaled = dt.predict(X_train_scaled)\n",
    "\n",
    "# Compute training accuracy\n",
    "knn_train_accuracy = accuracy_score(y_train, knn_y_pred_scaled)\n",
    "dt_train_accuracy = accuracy_score(y_train, dt_y_pred_scaled)\n",
    "\n",
    "#Print training accuracy for both models\n",
    "print(f\"Accuracy score of train knn model {knn_train_accuracy}\")\n",
    "print(f\"\\nAccuracy score of train dt model {dt_train_accuracy}\")"
   ]
  },
  {
   "cell_type": "markdown",
   "id": "8a0ec565",
   "metadata": {},
   "source": [
    "### Step 6: Evaluate models\n",
    "OK, now let's go ahead and predict on the test data to see how well our models do at predicting the genre of unseen tracks."
   ]
  },
  {
   "cell_type": "code",
   "execution_count": 19,
   "id": "b1ce64ad",
   "metadata": {},
   "outputs": [
    {
     "name": "stdout",
     "output_type": "stream",
     "text": [
      "Accuracy score of test knn model 1.0\n",
      "\n",
      "Accuracy score of test dt model 1.0\n"
     ]
    }
   ],
   "source": [
    "# Make predictions\n",
    "knn_pred = knn.predict(X_test_scaled)\n",
    "dt_pred = dt.predict(X_test_scaled)\n",
    "\n",
    "# Evaluate prediction accuracy\n",
    "knn_accuracy = accuracy_score(y_test, knn_pred)\n",
    "dt_accuracy = accuracy_score(y_test, dt_pred)\n",
    "\n",
    "#Print prediction accuracy for both models\n",
    "print(f\"Accuracy score of test knn model {knn_accuracy}\")\n",
    "print(f\"\\nAccuracy score of test dt model {dt_accuracy}\")"
   ]
  },
  {
   "cell_type": "markdown",
   "id": "84aed7de",
   "metadata": {},
   "source": [
    "### Step 7: Visualizing Model Performance\n",
    "Now that we have evaluated our models on unseen data, let’s compare their performance by visualizing the training vs. test accuracy.  We'll look for signs of overfitting by plotting the training accuracy and test accuracy for both k-NN and Decision Trees.\n",
    "\n",
    "Create a bar chart that compares the training accuracy and test accuracy for k-NN and Decision Trees. Your plot should clearly display:\n",
    "\n",
    "- The training and test accuracy for both models.\n",
    "- Properly labeled axes and a title.\n",
    "- A legend to differentiate training and test accuracy.\n",
    "- Accuracy values displayed on top of each bar."
   ]
  },
  {
   "cell_type": "code",
   "execution_count": 20,
   "id": "0937968e-5edc-4fa6-a495-3a81608f8dba",
   "metadata": {
    "tags": []
   },
   "outputs": [],
   "source": [
    "# Create DataFrames\n",
    "df_test = pd.DataFrame([['knn', 0.88866], ['dt', 0.85282]], columns = ['Method', 'Value'])\n",
    "df_train = pd.DataFrame([['knn', 0.92283], ['dt', 1.0]], columns = ['Method', 'Value'])"
   ]
  },
  {
   "cell_type": "code",
   "execution_count": 21,
   "id": "ce4efa80",
   "metadata": {},
   "outputs": [
    {
     "data": {
      "image/png": "[encoded data removed]",
      "text/plain": [
       "<Figure size 800x600 with 1 Axes>"
      ]
     },
     "metadata": {},
     "output_type": "display_data"
    }
   ],
   "source": [
    "# Initialize plot\n",
    "fig, ax = plt.subplots(figsize=(8, 6))\n",
    "\n",
    "# Plot bars for train and test data\n",
    "bar_width = 0.35  # Width of the bars\n",
    "index = range(len(df_train))  # Create a range of indices for the bars\n",
    "\n",
    "# Bars for df_train and df_test\n",
    "bar1 = ax.bar(index, df_train['Value'], bar_width, label='Train', color='b')\n",
    "bar2 = ax.bar([i + bar_width for i in index], df_test['Value'], bar_width, label='Test', color='r')\n",
    "\n",
    "# Add labels and title\n",
    "ax.set_xlabel('Method')\n",
    "ax.set_ylabel('Accuracy')\n",
    "ax.set_title('Train vs Test Accuracy Comparison')\n",
    "ax.set_xticks([i + bar_width / 2 for i in index])  # Align the x-ticks\n",
    "ax.set_xticklabels(df_train['Method'])\n",
    "ax.legend()\n",
    "for bar in bar1:\n",
    "    height = bar.get_height()\n",
    "    ax.text(bar.get_x() + bar.get_width() / 2, height, f'{height:.4f}', ha='center', va='bottom', fontsize=10)\n",
    "\n",
    "for bar in bar2:\n",
    "    height = bar.get_height()\n",
    "    ax.text(bar.get_x() + bar.get_width() / 2, height, f'{height:.4f}', ha='center', va='bottom', fontsize=10)\n",
    "# Show the plot\n",
    "plt.show()"
   ]
  },
  {
   "cell_type": "markdown",
   "id": "2bea31ee",
   "metadata": {},
   "source": [
    "Which model does a better job of generalizing to unseen data? How do you know?\n",
    "Does it appear that either of the models are overfitting? Why?"
   ]
  },
  {
   "cell_type": "markdown",
   "id": "7a6ab978",
   "metadata": {},
   "source": [
    "*your anwer here*"
   ]
  },
  {
   "cell_type": "markdown",
   "id": "b0fb937d-c97c-49f8-9376-1b03b51b0226",
   "metadata": {},
   "source": [
    "### Bonus question\n",
    "In the workflow above, we used the default parameter values of k = 5 for the KNN model, and maxdepth = None for the Decision Tree. Choose one of the models and see if you can improve test performance by optmizing its corresponding parameter value."
   ]
  }
 ],
 "metadata": {
  "kernelspec": {
   "display_name": "Anaconda 3 (EDS232)",
   "language": "python",
   "name": "ml-env"
  },
  "language_info": {
   "codemirror_mode": {
    "name": "ipython",
    "version": 3
   },
   "file_extension": ".py",
   "mimetype": "text/x-python",
   "name": "python",
   "nbconvert_exporter": "python",
   "pygments_lexer": "ipython3",
   "version": "3.10.16"
  }
 },
 "nbformat": 4,
 "nbformat_minor": 5
}
