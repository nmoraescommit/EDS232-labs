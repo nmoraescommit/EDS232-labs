{
 "cells": [
  {
   "cell_type": "markdown",
   "metadata": {},
   "source": [
    "# Lab 5: Species Distribution Modeling with Bagging \n",
    "Climate change and deforestation are accelerating ecosystem degradation, pushing animal species toward the brink of extinction. Understanding the distribution of animals and the factors that influence their ability to thrive in different environments is critical for conservation efforts. By studying these relationships, biological conservationists can develop informed strategies to protect endangered species and maintain biodiversity across diverse ecosystems.\n",
    "\n",
    "Species are defined by their behavioral, physiological, and ecological attributes, which shape their roles in ecosystems. In turn, ecosystems and their functions are deeply influenced by the species that inhabit them. This reciprocal relationship makes evaluating species' functional diversity and distributions essential for research in biogeography, community ecology, macroevolution, and conservation. Functional diversity is determined by traits such as diet, foraging strata, trophic level, activity cycle, litter size, generation length, habitat breadth, and body mass. These traits influence an animal’s ability to survive and adapt to different climates, playing a crucial role in ecosystem stability.\n",
    "\n",
    "In this lab, we will explore the connections between animal behaviors, functional traits, and species distributions across different climates."
   ]
  },
  {
   "cell_type": "code",
   "execution_count": 1,
   "metadata": {
    "tags": []
   },
   "outputs": [],
   "source": [
    "import pandas as pd\n",
    "import matplotlib.pyplot as plt\n",
    "import seaborn as sns\n",
    "from sklearn.ensemble import BaggingClassifier\n",
    "from sklearn.model_selection import train_test_split\n",
    "from sklearn.metrics import accuracy_score, roc_curve, auc\n",
    "from sklearn.preprocessing import StandardScaler, LabelEncoder\n",
    "from sklearn.inspection import permutation_importance\n",
    "from sklearn.utils import resample\n",
    "from sklearn.impute import SimpleImputer, KNNImputer"
   ]
  },
  {
   "cell_type": "markdown",
   "metadata": {},
   "source": [
    "### Step 1: Standardizing column names\n",
    "\n",
    "The dataset contains several columns that describe different aspects of bird diets. These column names currently include spaces, colons (:), and special characters, which can make them difficult to work with in code.\n",
    "\n",
    "Load the dataset (BirdTraitData.csv) into a Pandas DataFrame.\n",
    "\n",
    "The 7 column names that start with \"Diet:\" should be renamed to simpler version starting with `Diet_` in a way that conforms with this list of key variables:\n",
    "\n",
    "`AdultBodyMass`, `DietBreadth`, `Diet_Invertebrates`, `Diet_Vertebrates`,`Diet_Fruits`, `Diet_Flowers`, `Diet_Seeds`, `Diet_Plants`, `Diet_Other`, `TrophicLevel`,`ActivityCycle`, `ForagingStratum`, `MigratoryStatus`,`IncubationTime`, `ClutchSize`, `EggLength`, `EggWidth`,`EggMass`, `NestingHabit`,`MaxLongevity`, `Subarid`\n",
    "\n",
    "Then select only that list of 21 key variables. **Print the head of your dataframe.** "
   ]
  },
  {
   "cell_type": "code",
   "execution_count": 2,
   "metadata": {
    "tags": []
   },
   "outputs": [],
   "source": [
    "# Assign csv to dat variable\n",
    "dat = pd.read_csv(\"BirdTraitData.csv\", encoding=\"ISO-8859-1\", na_values = -999)"
   ]
  },
  {
   "cell_type": "code",
   "execution_count": 3,
   "metadata": {
    "tags": []
   },
   "outputs": [
    {
     "data": {
      "text/html": [
       "<div>\n",
       "<style scoped>\n",
       "    .dataframe tbody tr th:only-of-type {\n",
       "        vertical-align: middle;\n",
       "    }\n",
       "\n",
       "    .dataframe tbody tr th {\n",
       "        vertical-align: top;\n",
       "    }\n",
       "\n",
       "    .dataframe thead th {\n",
       "        text-align: right;\n",
       "    }\n",
       "</style>\n",
       "<table border=\"1\" class=\"dataframe\">\n",
       "  <thead>\n",
       "    <tr style=\"text-align: right;\">\n",
       "      <th></th>\n",
       "      <th>Order</th>\n",
       "      <th>Family</th>\n",
       "      <th>Genus</th>\n",
       "      <th>Species</th>\n",
       "      <th>Authority</th>\n",
       "      <th>CommonName</th>\n",
       "      <th>AdultBodyMass</th>\n",
       "      <th>DietBreadth</th>\n",
       "      <th>Diet: invertebrates</th>\n",
       "      <th>Diet: vertebrates</th>\n",
       "      <th>Diet: fruits</th>\n",
       "      <th>Diet: flower/nectar/pollen/gums</th>\n",
       "      <th>Diet: seeds</th>\n",
       "      <th>Diet: other plant materials</th>\n",
       "      <th>Diet: scavenge; garbage; carrion; offal; carcasses</th>\n",
       "      <th>TrophicLevel</th>\n",
       "      <th>ActivityCycle</th>\n",
       "      <th>ForagingStratum</th>\n",
       "      <th>MigratoryStatus</th>\n",
       "      <th>IncubationTime</th>\n",
       "      <th>ClutchSize</th>\n",
       "      <th>EggLength</th>\n",
       "      <th>EggWidth</th>\n",
       "      <th>EggMass</th>\n",
       "      <th>NestingHabit</th>\n",
       "      <th>MaxLongevity</th>\n",
       "      <th>Dry</th>\n",
       "      <th>Humid</th>\n",
       "      <th>Montane</th>\n",
       "      <th>Subarid</th>\n",
       "      <th>Subhumid</th>\n",
       "      <th>Alaotra.Mangoro</th>\n",
       "      <th>Amoron.i.Mania</th>\n",
       "      <th>Analamanga</th>\n",
       "      <th>Analanjirofo</th>\n",
       "      <th>Androy</th>\n",
       "      <th>Anosy</th>\n",
       "      <th>Atsimo.Andrefana</th>\n",
       "      <th>Atsimo.Atsinanana</th>\n",
       "      <th>Atsinanana</th>\n",
       "      <th>Betsiboka</th>\n",
       "      <th>Boeny</th>\n",
       "      <th>Bongolava</th>\n",
       "      <th>DIANA</th>\n",
       "      <th>Haute.Matsiatra</th>\n",
       "      <th>Ihorombe</th>\n",
       "      <th>Itasy</th>\n",
       "      <th>Melaky</th>\n",
       "      <th>Menabe</th>\n",
       "      <th>SAVA</th>\n",
       "      <th>Sofia</th>\n",
       "      <th>Vakinankaratra</th>\n",
       "      <th>Vatovavy.Fitovinany</th>\n",
       "      <th>Antananarivo</th>\n",
       "      <th>Antsiranana</th>\n",
       "      <th>Fianarantsoa</th>\n",
       "      <th>Mahajanga</th>\n",
       "      <th>Toamasina</th>\n",
       "      <th>Toliara</th>\n",
       "      <th>References</th>\n",
       "    </tr>\n",
       "  </thead>\n",
       "  <tbody>\n",
       "    <tr>\n",
       "      <th>0</th>\n",
       "      <td>Accipitriformes</td>\n",
       "      <td>Accipitridae</td>\n",
       "      <td>Accipiter</td>\n",
       "      <td>Accipiter francesiae</td>\n",
       "      <td>Smith, 1834</td>\n",
       "      <td>Frances's Sparrowhawk</td>\n",
       "      <td>138.5</td>\n",
       "      <td>2.0</td>\n",
       "      <td>yes</td>\n",
       "      <td>yes</td>\n",
       "      <td>no</td>\n",
       "      <td>no</td>\n",
       "      <td>no</td>\n",
       "      <td>no</td>\n",
       "      <td>no</td>\n",
       "      <td>3.0</td>\n",
       "      <td>3.0</td>\n",
       "      <td>3.0</td>\n",
       "      <td>no</td>\n",
       "      <td>31.0</td>\n",
       "      <td>3.0</td>\n",
       "      <td>3.85</td>\n",
       "      <td>NaN</td>\n",
       "      <td>NaN</td>\n",
       "      <td>arboreal</td>\n",
       "      <td>NaN</td>\n",
       "      <td>1</td>\n",
       "      <td>1</td>\n",
       "      <td>1</td>\n",
       "      <td>1</td>\n",
       "      <td>1</td>\n",
       "      <td>1</td>\n",
       "      <td>1</td>\n",
       "      <td>1</td>\n",
       "      <td>1</td>\n",
       "      <td>1</td>\n",
       "      <td>1</td>\n",
       "      <td>1</td>\n",
       "      <td>1</td>\n",
       "      <td>1</td>\n",
       "      <td>1</td>\n",
       "      <td>1</td>\n",
       "      <td>1</td>\n",
       "      <td>1</td>\n",
       "      <td>1</td>\n",
       "      <td>1</td>\n",
       "      <td>0</td>\n",
       "      <td>1</td>\n",
       "      <td>1</td>\n",
       "      <td>1</td>\n",
       "      <td>1</td>\n",
       "      <td>1</td>\n",
       "      <td>1</td>\n",
       "      <td>1</td>\n",
       "      <td>1</td>\n",
       "      <td>1</td>\n",
       "      <td>1</td>\n",
       "      <td>1</td>\n",
       "      <td>1</td>\n",
       "      <td>109; 254; 168; 376; 368; 199</td>\n",
       "    </tr>\n",
       "  </tbody>\n",
       "</table>\n",
       "</div>"
      ],
      "text/plain": [
       "             Order        Family      Genus               Species  \\\n",
       "0  Accipitriformes  Accipitridae  Accipiter  Accipiter francesiae   \n",
       "\n",
       "     Authority              CommonName  AdultBodyMass  DietBreadth  \\\n",
       "0  Smith, 1834  Frances's Sparrowhawk           138.5          2.0   \n",
       "\n",
       "  Diet: invertebrates Diet: vertebrates Diet: fruits  \\\n",
       "0                 yes               yes           no   \n",
       "\n",
       "  Diet: flower/nectar/pollen/gums Diet: seeds Diet: other plant materials  \\\n",
       "0                              no          no                          no   \n",
       "\n",
       "  Diet: scavenge; garbage; carrion; offal; carcasses  TrophicLevel  \\\n",
       "0                                                 no           3.0   \n",
       "\n",
       "   ActivityCycle  ForagingStratum MigratoryStatus  IncubationTime  ClutchSize  \\\n",
       "0            3.0              3.0              no            31.0         3.0   \n",
       "\n",
       "   EggLength  EggWidth  EggMass NestingHabit  MaxLongevity  Dry  Humid  \\\n",
       "0       3.85       NaN      NaN     arboreal           NaN    1      1   \n",
       "\n",
       "   Montane  Subarid  Subhumid  Alaotra.Mangoro  Amoron.i.Mania  Analamanga  \\\n",
       "0        1        1         1                1               1           1   \n",
       "\n",
       "   Analanjirofo  Androy  Anosy  Atsimo.Andrefana  Atsimo.Atsinanana  \\\n",
       "0             1       1      1                 1                  1   \n",
       "\n",
       "   Atsinanana  Betsiboka  Boeny  Bongolava  DIANA  Haute.Matsiatra  Ihorombe  \\\n",
       "0           1          1      1          1      1                1         1   \n",
       "\n",
       "   Itasy  Melaky  Menabe  SAVA  Sofia  Vakinankaratra  Vatovavy.Fitovinany  \\\n",
       "0      0       1       1     1      1               1                    1   \n",
       "\n",
       "   Antananarivo  Antsiranana  Fianarantsoa  Mahajanga  Toamasina  Toliara  \\\n",
       "0             1            1             1          1          1        1   \n",
       "\n",
       "                     References  \n",
       "0  109; 254; 168; 376; 368; 199  "
      ]
     },
     "execution_count": 3,
     "metadata": {},
     "output_type": "execute_result"
    }
   ],
   "source": [
    "# Explore dat characteristics\n",
    "pd.set_option('display.max_columns', None)\n",
    "dat.head(1)"
   ]
  },
  {
   "cell_type": "code",
   "execution_count": 4,
   "metadata": {
    "tags": []
   },
   "outputs": [],
   "source": [
    "# Rename some columns\n",
    "dat = dat.rename(columns={\n",
    "    'Diet: invertebrates': 'Diet_Invertebrates',\n",
    "    'Diet: vertebrates': 'Diet_Vertebrates',\n",
    "    'Diet: fruits': 'Diet_Fruits',\n",
    "    'Diet: flower/nectar/pollen/gums': 'Diet_Flowers',\n",
    "    'Diet: seeds': 'Diet_Seeds',\n",
    "    'Diet: other plant materials': 'Diet_Plants',\n",
    "    'Diet: scavenge; garbage; carrion; offal; carcasses': 'Diet_Other'\n",
    "})"
   ]
  },
  {
   "cell_type": "code",
   "execution_count": 5,
   "metadata": {
    "tags": []
   },
   "outputs": [],
   "source": [
    "# Filter for specified list of variables\n",
    "birds = dat[[\"AdultBodyMass\", \"DietBreadth\", \"Diet_Invertebrates\", \n",
    "     \"Diet_Vertebrates\", \"Diet_Fruits\", \"Diet_Flowers\", \n",
    "     \"Diet_Seeds\", \"Diet_Plants\", \"Diet_Other\", \n",
    "     \"TrophicLevel\", \"ActivityCycle\", \"ForagingStratum\", \n",
    "     \"MigratoryStatus\", \"IncubationTime\", \"ClutchSize\", \n",
    "     \"EggLength\", \"EggWidth\", \"EggMass\", \n",
    "     \"NestingHabit\", \"MaxLongevity\", \"Subarid\"]]"
   ]
  },
  {
   "cell_type": "markdown",
   "metadata": {},
   "source": [
    "### Step 2: Encode categorical variables\n",
    "In our dataset, some columns contain categorical (non-numeric) data, such as species names or habitat types that need to be converted to numerical representations. Let's use label encoding to assign a unique number to each category in a column.\n",
    "\n",
    "Encode the data using this process:\n",
    "1. Find all categorical columns in df using `.select_dtypes(include=['object'])`\n",
    "2. Loop through each categorical column and apply `LabelEncoder()`\n",
    "3. Replace the original categorical columns with their encoded values.\n",
    "4. Print the head of your dataframe to ensure that labels were in fact encoded. "
   ]
  },
  {
   "cell_type": "code",
   "execution_count": 6,
   "metadata": {},
   "outputs": [
    {
     "data": {
      "text/plain": [
       "AdultBodyMass           2\n",
       "DietBreadth             3\n",
       "Diet_Invertebrates      3\n",
       "Diet_Vertebrates        3\n",
       "Diet_Fruits             3\n",
       "Diet_Flowers            3\n",
       "Diet_Seeds              3\n",
       "Diet_Plants             3\n",
       "Diet_Other              3\n",
       "TrophicLevel            3\n",
       "ActivityCycle          14\n",
       "ForagingStratum         6\n",
       "MigratoryStatus         0\n",
       "IncubationTime        100\n",
       "ClutchSize             28\n",
       "EggLength             134\n",
       "EggWidth              136\n",
       "EggMass               115\n",
       "NestingHabit           18\n",
       "MaxLongevity          172\n",
       "Subarid                 0\n",
       "dtype: int64"
      ]
     },
     "execution_count": 6,
     "metadata": {},
     "output_type": "execute_result"
    }
   ],
   "source": [
    "# Check to see if there are NAs\n",
    "birds.isna().sum()"
   ]
  },
  {
   "cell_type": "code",
   "execution_count": 7,
   "metadata": {
    "tags": []
   },
   "outputs": [],
   "source": [
    "# Create an imputer for categorical columns using the 'most_frequent' strategy (mode)\n",
    "categorical_imputer = SimpleImputer(strategy='most_frequent')\n",
    "\n",
    "# All columns in dat\n",
    "birds_col = birds.columns\n",
    "\n",
    "# Fit and transform the categorical columns\n",
    "birds.loc[:, birds_col] = categorical_imputer.fit_transform(birds[birds_col])"
   ]
  },
  {
   "cell_type": "code",
   "execution_count": 8,
   "metadata": {
    "tags": []
   },
   "outputs": [
    {
     "data": {
      "text/plain": [
       "AdultBodyMass         0\n",
       "DietBreadth           0\n",
       "Diet_Invertebrates    0\n",
       "Diet_Vertebrates      0\n",
       "Diet_Fruits           0\n",
       "Diet_Flowers          0\n",
       "Diet_Seeds            0\n",
       "Diet_Plants           0\n",
       "Diet_Other            0\n",
       "TrophicLevel          0\n",
       "ActivityCycle         0\n",
       "ForagingStratum       0\n",
       "MigratoryStatus       0\n",
       "IncubationTime        0\n",
       "ClutchSize            0\n",
       "EggLength             0\n",
       "EggWidth              0\n",
       "EggMass               0\n",
       "NestingHabit          0\n",
       "MaxLongevity          0\n",
       "Subarid               0\n",
       "dtype: int64"
      ]
     },
     "execution_count": 8,
     "metadata": {},
     "output_type": "execute_result"
    }
   ],
   "source": [
    "# View the updated NAs\n",
    "birds.isna().sum()"
   ]
  },
  {
   "cell_type": "code",
   "execution_count": 9,
   "metadata": {
    "tags": []
   },
   "outputs": [
    {
     "name": "stdout",
     "output_type": "stream",
     "text": [
      "Head of the encoded dataframe:\n",
      "   AdultBodyMass  DietBreadth Diet_Invertebrates Diet_Vertebrates Diet_Fruits  \\\n",
      "0          138.5          2.0                  1                1           0   \n",
      "1         1050.0          1.0                  0                1           0   \n",
      "2          181.0          2.0                  1                1           0   \n",
      "3          292.0          2.0                  1                1           0   \n",
      "4          511.0          2.0                  1                1           0   \n",
      "\n",
      "  Diet_Flowers Diet_Seeds Diet_Plants Diet_Other  TrophicLevel  ActivityCycle  \\\n",
      "0            0          0           0          0           3.0            3.0   \n",
      "1            0          0           0          0           3.0            2.0   \n",
      "2            0          0           0          0           3.0            3.0   \n",
      "3            0          0           0          0           3.0            3.0   \n",
      "4            0          0           0          0           3.0            3.0   \n",
      "\n",
      "   ForagingStratum MigratoryStatus  IncubationTime  ClutchSize  EggLength  \\\n",
      "0              3.0               0            31.0         3.0       3.85   \n",
      "1              3.0               0            39.5         2.5      58.50   \n",
      "2              3.0               0            35.0         2.5      38.35   \n",
      "3              3.0               0            31.0         1.5      43.70   \n",
      "4              4.0               0            35.5         2.0      54.50   \n",
      "\n",
      "   EggWidth  EggMass NestingHabit  MaxLongevity  Subarid  \n",
      "0     40.00     13.5            1         134.4        1  \n",
      "1     46.95     13.5            1         134.4        1  \n",
      "2     31.90     13.5            1         134.4        1  \n",
      "3     35.20     29.1            1         134.4        1  \n",
      "4     45.00     13.5            1         144.0        1  \n"
     ]
    }
   ],
   "source": [
    "# Identify categorical columns\n",
    "cat_cols = birds.select_dtypes(include=['object']).columns\n",
    "\n",
    "# Create a label encoder object\n",
    "le = LabelEncoder()\n",
    "\n",
    "# Loop through each categorical column and apply label encoding\n",
    "for col in cat_cols:\n",
    "    birds.loc[:,col] = le.fit_transform(birds[col]) # Fit and transform the column\n",
    "\n",
    "# Print dat head - to ensure labels were encoded\n",
    "print(\"Head of the encoded dataframe:\")\n",
    "print(birds.head())"
   ]
  },
  {
   "cell_type": "markdown",
   "metadata": {},
   "source": [
    "### Step 3: Defining features, splitting data, and training a bagging classifier\n",
    "Our goal for this analysis is to predict whether a given bird species is present in Subarid climate zones. \n",
    "\n",
    "1. Drop the corresponding variable from the features (X) and define it as the target (y). Then perform the train-test split with 70/30 train/test and a random state of 808.\n",
    "\n",
    "2. Initialize a bagging classifier with 100 trees, `oob_score =True`, `bootstrap = True` and `random_state = 808`.  \n",
    "\n",
    "3. Train the model."
   ]
  },
  {
   "cell_type": "code",
   "execution_count": 10,
   "metadata": {
    "tags": []
   },
   "outputs": [],
   "source": [
    "# Separate features and target\n",
    "X = birds.drop('Subarid', axis=1)\n",
    "y = birds['Subarid']"
   ]
  },
  {
   "cell_type": "code",
   "execution_count": 11,
   "metadata": {
    "tags": []
   },
   "outputs": [
    {
     "data": {
      "text/html": [
       "<style>#sk-container-id-1 {color: black;}#sk-container-id-1 pre{padding: 0;}#sk-container-id-1 div.sk-toggleable {background-color: white;}#sk-container-id-1 label.sk-toggleable__label {cursor: pointer;display: block;width: 100%;margin-bottom: 0;padding: 0.3em;box-sizing: border-box;text-align: center;}#sk-container-id-1 label.sk-toggleable__label-arrow:before {content: \"▸\";float: left;margin-right: 0.25em;color: #696969;}#sk-container-id-1 label.sk-toggleable__label-arrow:hover:before {color: black;}#sk-container-id-1 div.sk-estimator:hover label.sk-toggleable__label-arrow:before {color: black;}#sk-container-id-1 div.sk-toggleable__content {max-height: 0;max-width: 0;overflow: hidden;text-align: left;background-color: #f0f8ff;}#sk-container-id-1 div.sk-toggleable__content pre {margin: 0.2em;color: black;border-radius: 0.25em;background-color: #f0f8ff;}#sk-container-id-1 input.sk-toggleable__control:checked~div.sk-toggleable__content {max-height: 200px;max-width: 100%;overflow: auto;}#sk-container-id-1 input.sk-toggleable__control:checked~label.sk-toggleable__label-arrow:before {content: \"▾\";}#sk-container-id-1 div.sk-estimator input.sk-toggleable__control:checked~label.sk-toggleable__label {background-color: #d4ebff;}#sk-container-id-1 div.sk-label input.sk-toggleable__control:checked~label.sk-toggleable__label {background-color: #d4ebff;}#sk-container-id-1 input.sk-hidden--visually {border: 0;clip: rect(1px 1px 1px 1px);clip: rect(1px, 1px, 1px, 1px);height: 1px;margin: -1px;overflow: hidden;padding: 0;position: absolute;width: 1px;}#sk-container-id-1 div.sk-estimator {font-family: monospace;background-color: #f0f8ff;border: 1px dotted black;border-radius: 0.25em;box-sizing: border-box;margin-bottom: 0.5em;}#sk-container-id-1 div.sk-estimator:hover {background-color: #d4ebff;}#sk-container-id-1 div.sk-parallel-item::after {content: \"\";width: 100%;border-bottom: 1px solid gray;flex-grow: 1;}#sk-container-id-1 div.sk-label:hover label.sk-toggleable__label {background-color: #d4ebff;}#sk-container-id-1 div.sk-serial::before {content: \"\";position: absolute;border-left: 1px solid gray;box-sizing: border-box;top: 0;bottom: 0;left: 50%;z-index: 0;}#sk-container-id-1 div.sk-serial {display: flex;flex-direction: column;align-items: center;background-color: white;padding-right: 0.2em;padding-left: 0.2em;position: relative;}#sk-container-id-1 div.sk-item {position: relative;z-index: 1;}#sk-container-id-1 div.sk-parallel {display: flex;align-items: stretch;justify-content: center;background-color: white;position: relative;}#sk-container-id-1 div.sk-item::before, #sk-container-id-1 div.sk-parallel-item::before {content: \"\";position: absolute;border-left: 1px solid gray;box-sizing: border-box;top: 0;bottom: 0;left: 50%;z-index: -1;}#sk-container-id-1 div.sk-parallel-item {display: flex;flex-direction: column;z-index: 1;position: relative;background-color: white;}#sk-container-id-1 div.sk-parallel-item:first-child::after {align-self: flex-end;width: 50%;}#sk-container-id-1 div.sk-parallel-item:last-child::after {align-self: flex-start;width: 50%;}#sk-container-id-1 div.sk-parallel-item:only-child::after {width: 0;}#sk-container-id-1 div.sk-dashed-wrapped {border: 1px dashed gray;margin: 0 0.4em 0.5em 0.4em;box-sizing: border-box;padding-bottom: 0.4em;background-color: white;}#sk-container-id-1 div.sk-label label {font-family: monospace;font-weight: bold;display: inline-block;line-height: 1.2em;}#sk-container-id-1 div.sk-label-container {text-align: center;}#sk-container-id-1 div.sk-container {/* jupyter's `normalize.less` sets `[hidden] { display: none; }` but bootstrap.min.css set `[hidden] { display: none !important; }` so we also need the `!important` here to be able to override the default hidden behavior on the sphinx rendered scikit-learn.org. See: https://github.com/scikit-learn/scikit-learn/issues/21755 */display: inline-block !important;position: relative;}#sk-container-id-1 div.sk-text-repr-fallback {display: none;}</style><div id=\"sk-container-id-1\" class=\"sk-top-container\"><div class=\"sk-text-repr-fallback\"><pre>BaggingClassifier(n_estimators=100, oob_score=True, random_state=808)</pre><b>In a Jupyter environment, please rerun this cell to show the HTML representation or trust the notebook. <br />On GitHub, the HTML representation is unable to render, please try loading this page with nbviewer.org.</b></div><div class=\"sk-container\" hidden><div class=\"sk-item\"><div class=\"sk-estimator sk-toggleable\"><input class=\"sk-toggleable__control sk-hidden--visually\" id=\"sk-estimator-id-1\" type=\"checkbox\" checked><label for=\"sk-estimator-id-1\" class=\"sk-toggleable__label sk-toggleable__label-arrow\">BaggingClassifier</label><div class=\"sk-toggleable__content\"><pre>BaggingClassifier(n_estimators=100, oob_score=True, random_state=808)</pre></div></div></div></div></div>"
      ],
      "text/plain": [
       "BaggingClassifier(n_estimators=100, oob_score=True, random_state=808)"
      ]
     },
     "execution_count": 11,
     "metadata": {},
     "output_type": "execute_result"
    }
   ],
   "source": [
    "# Split the data into training and testing sets\n",
    "X_train, X_test, y_train, y_test = train_test_split(X, y, test_size=0.3, random_state=808)\n",
    "\n",
    "# Initialize the bagging classifier\n",
    "bagging = BaggingClassifier(\n",
    "    n_estimators=100,\n",
    "    oob_score=True,\n",
    "    bootstrap=True,\n",
    "    random_state=808)\n",
    "\n",
    "# Train the model\n",
    "bagging.fit(X_train, y_train)"
   ]
  },
  {
   "cell_type": "markdown",
   "metadata": {
    "tags": []
   },
   "source": [
    "### Step 4: Make predictions and evaluate the model\n",
    "\n",
    "1. Generate predictions\n",
    "- Use the trained bagging model to predict values for the test set (`X_test`).\n",
    "\n",
    "2. Calculate the Out-of-Bag (OOB) Score\n",
    "- The OOB score is an internal validation score computed using samples not included in bootstrapped subsets.\n",
    "\n",
    "3. Compute model accuracy\n",
    "- Print the OOB score and the bagging accuracy score."
   ]
  },
  {
   "cell_type": "code",
   "execution_count": 12,
   "metadata": {
    "tags": []
   },
   "outputs": [],
   "source": [
    "# Generate predictions with the fixed test set\n",
    "y_pred = bagging.predict(X_test)\n",
    "oob_score = bagging.oob_score_\n",
    "test_accuracy = accuracy_score(y_test, y_pred)"
   ]
  },
  {
   "cell_type": "code",
   "execution_count": 13,
   "metadata": {
    "tags": []
   },
   "outputs": [
    {
     "name": "stdout",
     "output_type": "stream",
     "text": [
      "\n",
      "Model Evaluation Results:\n",
      "Out-of-Bag (OOB) Score: 0.8580\n",
      "Test Set Accuracy: 0.9315\n"
     ]
    }
   ],
   "source": [
    "# Print results\n",
    "print(\"\\nModel Evaluation Results:\")\n",
    "print(f\"Out-of-Bag (OOB) Score: {oob_score:.4f}\")\n",
    "print(f\"Test Set Accuracy: {test_accuracy:.4f}\")"
   ]
  },
  {
   "cell_type": "markdown",
   "metadata": {},
   "source": [
    "### Step 5: Calculate and plot ROC curve\n",
    "\n",
    "- Use `label=f\"Bagging (AUC = {roc_auc_bagging:.2f})\"` to include the AUC value in the plot."
   ]
  },
  {
   "cell_type": "code",
   "execution_count": 14,
   "metadata": {
    "tags": []
   },
   "outputs": [
    {
     "data": {
      "image/png": "[encoded data removed]",
      "text/plain": [
       "<Figure size 800x600 with 1 Axes>"
      ]
     },
     "metadata": {},
     "output_type": "display_data"
    }
   ],
   "source": [
    "# Calculate and plot ROC curve\n",
    "# Generate predictions and probability estimates\n",
    "y_pred_proba = bagging.predict_proba(X_test)[:, 1]\n",
    "\n",
    "# Calculate ROC curve metrics\n",
    "fpr, tpr, thresholds = roc_curve(y_test, y_pred_proba)\n",
    "roc_auc_bagging = auc(fpr, tpr)\n",
    "\n",
    "# Plot ROC curve with AUC in the legend label\n",
    "plt.figure(figsize=(8, 6))\n",
    "plt.plot(fpr, tpr, color='darkorange', lw=2, \n",
    "         label=f\"Bagging (AUC = {roc_auc_bagging:.2f})\")\n",
    "plt.plot([0, 1], [0, 1], color='red', lw=2, linestyle='--')\n",
    "\n",
    "plt.xlim([0.0, 1.0])\n",
    "plt.ylim([0.0, 1.05])\n",
    "\n",
    "plt.xlabel('False Positive Rate')\n",
    "plt.ylabel('True Positive Rate')\n",
    "plt.title('Receiver Operating Characteristic')\n",
    "plt.legend(loc=\"lower right\")\n",
    "\n",
    "plt.grid()\n",
    "\n",
    "plt.show()"
   ]
  },
  {
   "cell_type": "markdown",
   "metadata": {},
   "source": [
    "Now how does the ROC curve look? How does this compare to our classification accuracy metric?  What might be going on? "
   ]
  },
  {
   "cell_type": "markdown",
   "metadata": {},
   "source": [
    "The ROC curve has a step-wise appearance - and was found to have an area under the curve of 0.64. This AUC is close to 0.5, indicating that this model is not great at predicting whether a given bird species exists in sub-arid climate zones. This is incongruent to our classification accuracy metric, of 0.9315, which indicates the model is quite good at predicting whethere bird species exist in sub-arid climate zones. This could be due to the presence of imbalanced classes - as the model can predict the majority class most of the time and still achieve a high accuracy, but the AUC will penalize this because it takes both false positives and false negatives into account. Another reason this might be is due to overfitting the test set."
   ]
  },
  {
   "cell_type": "markdown",
   "metadata": {},
   "source": [
    "### Step 6: Introducing upsampling\n",
    "\n",
    "The ROC curve indicates that our model is not performing well.  This is a common issue in imbalanced datasets, where one class significantly outnumbers the other. To improve our model’s ability to correctly classify both groups, we will upsample the minority class so that both classes have equal representation in the training set.\n",
    "\n",
    "**Perform upsampling to balance the dataset**\n",
    "1. Separate the majority and minority classes:\n",
    "- Identify which class (0,1) is underrepresented (the minority class) and which is overrepresented (the majority class). \n",
    "- Separate both the `X_train` data and `y_train` data into all majority class and all minority class sets. \n",
    "2. Apply upsampling:\n",
    "- Use `resample()` to create additional synthetic samples of the minority class *with replacement* until it is the same size as the majority class data. Use a random state of 808. \n",
    "3. Combine the balanced classes:\n",
    "Merge the original majority class with the newly upsampled minority class.\n",
    "4. Shuffle the resampled dataset:\n",
    "- Randomly shuffle the data to ensure the model does not learn any unintended patterns from the order of the data. Use a random state of 808 for shuffling both the resampled X and y training data. \n",
    "5. Print the value counts for the resampled y training data to ensure that the data is balanced. \n"
   ]
  },
  {
   "cell_type": "code",
   "execution_count": 15,
   "metadata": {
    "tags": []
   },
   "outputs": [
    {
     "name": "stdout",
     "output_type": "stream",
     "text": [
      "Minority class: 0, count: 19\n",
      "Majority class: 1, count: 150\n"
     ]
    }
   ],
   "source": [
    "# Determine which is the minority class\n",
    "class_counts = y_train.value_counts()\n",
    "minority_class = class_counts.idxmin()\n",
    "majority_class = class_counts.idxmax()\n",
    "\n",
    "print(f\"Minority class: {minority_class}, count: {class_counts[minority_class]}\")\n",
    "print(f\"Majority class: {majority_class}, count: {class_counts[majority_class]}\")"
   ]
  },
  {
   "cell_type": "code",
   "execution_count": 16,
   "metadata": {
    "tags": []
   },
   "outputs": [],
   "source": [
    "# Separate X_train and y_train by class\n",
    "X_majority = X_train[y_train == majority_class]\n",
    "X_minority = X_train[y_train == minority_class]\n",
    "\n",
    "y_majority = y_train[y_train == majority_class]\n",
    "y_minority = y_train[y_train == minority_class]"
   ]
  },
  {
   "cell_type": "code",
   "execution_count": 17,
   "metadata": {
    "tags": []
   },
   "outputs": [
    {
     "name": "stdout",
     "output_type": "stream",
     "text": [
      "After upsampling - X_minority_upsampled shape: (150, 20)\n"
     ]
    }
   ],
   "source": [
    "# Upsample the minority class\n",
    "X_minority_upsampled, y_minority_upsampled = resample(\n",
    "    X_minority, \n",
    "    y_minority,\n",
    "    replace=True,                  # Sample with replacement\n",
    "    n_samples=len(X_majority),     # Match majority class size\n",
    "    random_state=808               # Reproducible results\n",
    ")\n",
    "\n",
    "print(f\"After upsampling - X_minority_upsampled shape: {X_minority_upsampled.shape}\")"
   ]
  },
  {
   "cell_type": "code",
   "execution_count": 18,
   "metadata": {
    "tags": []
   },
   "outputs": [],
   "source": [
    "# Combine majority and upsampled minority class\n",
    "X_train_balanced = pd.concat([X_majority, X_minority_upsampled])\n",
    "y_train_balanced = pd.concat([y_majority, y_minority_upsampled])"
   ]
  },
  {
   "cell_type": "code",
   "execution_count": 19,
   "metadata": {
    "tags": []
   },
   "outputs": [],
   "source": [
    "# Shuffle the dataset\n",
    "temp_df = pd.concat([X_train_balanced, y_train_balanced], axis=1)\n",
    "temp_df = temp_df.sample(frac=1, random_state=808)  # Shuffle"
   ]
  },
  {
   "cell_type": "code",
   "execution_count": 20,
   "metadata": {
    "tags": []
   },
   "outputs": [],
   "source": [
    "# Split back into X and y\n",
    "X_train_balanced = temp_df.iloc[:, :-1] \n",
    "y_train_balanced = temp_df.iloc[:, -1] "
   ]
  },
  {
   "cell_type": "code",
   "execution_count": 21,
   "metadata": {
    "tags": []
   },
   "outputs": [
    {
     "name": "stdout",
     "output_type": "stream",
     "text": [
      "\n",
      "Class distribution after upsampling:\n",
      "Subarid\n",
      "0    150\n",
      "1    150\n",
      "Name: count, dtype: int64\n",
      "\n",
      "Final balanced training data:\n",
      "X_train_balanced shape: (300, 20)\n",
      "y_train_balanced shape: (300,)\n"
     ]
    }
   ],
   "source": [
    "# Print value counts \n",
    "print(\"\\nClass distribution after upsampling:\")\n",
    "print(y_train_balanced.value_counts())\n",
    "\n",
    "# Print the final shapes\n",
    "print(f\"\\nFinal balanced training data:\")\n",
    "print(f\"X_train_balanced shape: {X_train_balanced.shape}\")\n",
    "print(f\"y_train_balanced shape: {y_train_balanced.shape}\")"
   ]
  },
  {
   "cell_type": "markdown",
   "metadata": {},
   "source": [
    "### Step 7: Retrain and evaluate model using balanced data\n",
    "\n",
    "Now that we have addressed the class imbalance by upsampling the minority class, we will retrain the bagging classifier on the newly balanced dataset and evaluate its performance. This will help us determine whether handling class imbalance improves model accuracy and its ability to distinguish between classes. Create a bagging model using your balanced data. Use a random state of 808. Print the accuracy and and ROC Curve for this new model with balanced data. "
   ]
  },
  {
   "cell_type": "code",
   "execution_count": 22,
   "metadata": {
    "tags": []
   },
   "outputs": [
    {
     "name": "stdout",
     "output_type": "stream",
     "text": [
      "Balanced Model Accuracy: 0.8630\n"
     ]
    }
   ],
   "source": [
    "# Retrain and evaluate model using balanced data\n",
    "bagging_model_balanced = BaggingClassifier(n_estimators=100, oob_score=True, \n",
    "                                           bootstrap=True, random_state=808)\n",
    "bagging_model_balanced.fit(X_train_balanced, y_train_balanced)\n",
    "\n",
    "# Make predictions\n",
    "y_pred_balanced = bagging_model_balanced.predict(X_test)\n",
    "accuracy_balanced = accuracy_score(y_test, y_pred_balanced)\n",
    "\n",
    "print(f\"Balanced Model Accuracy: {accuracy_balanced:.4f}\")"
   ]
  },
  {
   "cell_type": "code",
   "execution_count": 23,
   "metadata": {
    "tags": []
   },
   "outputs": [],
   "source": [
    "# Calculate ROC curve\n",
    "y_prob_balanced = bagging_model_balanced.predict_proba(X_test)[:, 1]\n",
    "fpr_balanced, tpr_balanced, _ = roc_curve(y_test, y_prob_balanced)\n",
    "roc_auc_balanced = auc(fpr_balanced, tpr_balanced)"
   ]
  },
  {
   "cell_type": "code",
   "execution_count": 24,
   "metadata": {
    "tags": []
   },
   "outputs": [
    {
     "data": {
      "image/png": "[encoded data removed]",
      "text/plain": [
       "<Figure size 800x600 with 1 Axes>"
      ]
     },
     "metadata": {},
     "output_type": "display_data"
    }
   ],
   "source": [
    "# Plot ROC curve with AUC in the legend label\n",
    "plt.figure(figsize=(8, 6))\n",
    "plt.plot(fpr_balanced, tpr_balanced, color='darkorange', lw=2, \n",
    "         label=f\"Bagging (AUC = {roc_auc_balanced:.2f})\")\n",
    "plt.plot([0, 1], [0, 1], color='red', lw=2, linestyle='--')\n",
    "\n",
    "plt.xlim([0.0, 1.0])\n",
    "plt.ylim([0.0, 1.05])\n",
    "\n",
    "plt.xlabel('False Positive Rate')\n",
    "plt.ylabel('True Positive Rate')\n",
    "plt.title('ROC for Balanced Data')\n",
    "plt.legend(loc=\"lower right\")\n",
    "\n",
    "plt.grid()\n",
    "\n",
    "plt.show()"
   ]
  },
  {
   "cell_type": "markdown",
   "metadata": {},
   "source": [
    "How did this second model, trained on balanced data, do in comparison to the first on the accuracy and AUC metrics.  How should we interpret those results?  Did the upscaling prove useful?"
   ]
  },
  {
   "cell_type": "markdown",
   "metadata": {},
   "source": [
    "On this model trained on balanced data, the area under the curve is 0.74, which is an improvement to the initial bagging model (though there is room for improvement). The accuracy score is 0.8630, which is lower than the accuracy of the previous model. This indicated that model perfomance improved - in distguishing between classes. (Though, the fall in the accuracy score indicates that the new model is not as accurate as it was before.) Despite this, the new metrics suggest that balancing the classes helped the model perform better overall in terms of identifying positive and negative instances. Thus, the new AUC indicates a more robust model that is likely generalizing on  the test data better."
   ]
  },
  {
   "cell_type": "markdown",
   "metadata": {},
   "source": [
    "### Step 8: Analyzing feature importance with permutation importance\n",
    "\n",
    "Understanding which bird traits contribute the most to our model’s predictions is crucial for interpreting results. We covered in lecture how the results of ensemble methods are harder to interpret than a single decision tree.  But we do have some tools to do it.  In this step, we will compute permutation importance, which measures the impact of each trait by shuffling its values and observing the effect on model performance. This will help us identify which functional traits—such as diet, body mass, or habitat breadth—play the biggest role in predicting whether a species is found in a subarid environment.\n",
    "\n",
    "Use `permutation_importance()` to calculate the importance values.  You'll need to pass it the model, the feature and target test data, and an n_repeats value of 10."
   ]
  },
  {
   "cell_type": "code",
   "execution_count": 25,
   "metadata": {
    "tags": []
   },
   "outputs": [],
   "source": [
    "# Calculate permutation importance\n",
    "result = permutation_importance(\n",
    "    bagging_model_balanced, X_test, y_test, n_repeats=10, random_state=808\n",
    ")"
   ]
  },
  {
   "cell_type": "code",
   "execution_count": 26,
   "metadata": {
    "tags": []
   },
   "outputs": [
    {
     "name": "stdout",
     "output_type": "stream",
     "text": [
      "\n",
      "Permutation Feature Importance:\n",
      "               Feature    Importance\n",
      "12     MigratoryStatus  1.917808e-02\n",
      "19        MaxLongevity  1.369863e-02\n",
      "11     ForagingStratum  1.095890e-02\n",
      "1          DietBreadth  1.095890e-02\n",
      "13      IncubationTime  9.589041e-03\n",
      "17             EggMass  9.589041e-03\n",
      "10       ActivityCycle  8.219178e-03\n",
      "7          Diet_Plants  6.849315e-03\n",
      "4          Diet_Fruits  5.479452e-03\n",
      "16            EggWidth  5.479452e-03\n",
      "6           Diet_Seeds  5.479452e-03\n",
      "18        NestingHabit  2.739726e-03\n",
      "0        AdultBodyMass  2.739726e-03\n",
      "9         TrophicLevel  1.369863e-03\n",
      "8           Diet_Other  1.369863e-03\n",
      "15           EggLength  1.369863e-03\n",
      "14          ClutchSize  1.369863e-03\n",
      "3     Diet_Vertebrates  2.220446e-17\n",
      "2   Diet_Invertebrates  0.000000e+00\n",
      "5         Diet_Flowers  0.000000e+00\n"
     ]
    }
   ],
   "source": [
    "# Get feature importance scores\n",
    "importance = result.importances_mean\n",
    "feature_names = X.columns\n",
    "\n",
    "# Create df for easier viewing\n",
    "importance_df = pd.DataFrame({'Feature': feature_names, 'Importance': importance})\n",
    "\n",
    "# Take the absolute values of importance\n",
    "importance_df['Importance'] = importance_df['Importance'].abs()\n",
    "\n",
    "# Sort df by importance\n",
    "importance_df = importance_df.sort_values('Importance', ascending=False)\n",
    "\n",
    "print(\"\\nPermutation Feature Importance:\")\n",
    "print(importance_df)"
   ]
  },
  {
   "cell_type": "markdown",
   "metadata": {},
   "source": [
    "What features are most important in our model of species distribution?"
   ]
  },
  {
   "cell_type": "markdown",
   "metadata": {},
   "source": [
    "The most important features, for species distribution is migratory status, max longetivity, and foraging stratum."
   ]
  }
 ],
 "metadata": {
  "kernelspec": {
   "display_name": "Anaconda 3 (EDS232)",
   "language": "python",
   "name": "ml-env"
  },
  "language_info": {
   "codemirror_mode": {
    "name": "ipython",
    "version": 3
   },
   "file_extension": ".py",
   "mimetype": "text/x-python",
   "name": "python",
   "nbconvert_exporter": "python",
   "pygments_lexer": "ipython3",
   "version": "3.10.16"
  }
 },
 "nbformat": 4,
 "nbformat_minor": 4
}
